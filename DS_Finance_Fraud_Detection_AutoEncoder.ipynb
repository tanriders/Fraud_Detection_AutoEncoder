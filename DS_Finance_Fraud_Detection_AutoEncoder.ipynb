{
  "cells": [
    {
      "cell_type": "markdown",
      "metadata": {
        "id": "view-in-github",
        "colab_type": "text"
      },
      "source": [
        "<a href=\"https://colab.research.google.com/github/tanriders/Fraud_Detection_AutoEncoder/blob/main/DS_Finance_Fraud_Detection_AutoEncoder.ipynb\" target=\"_parent\"><img src=\"https://colab.research.google.com/assets/colab-badge.svg\" alt=\"Open In Colab\"/></a>"
      ]
    },
    {
      "cell_type": "markdown",
      "source": [
        "#**Fraud detection**"
      ],
      "metadata": {
        "id": "v0QZIlF-rJ7E"
      }
    },
    {
      "cell_type": "markdown",
      "source": [
        "#**1 เตรียม Dataset สำหรับการทำ Fraud detection model**"
      ],
      "metadata": {
        "id": "3Jk6DmjCsDsF"
      }
    },
    {
      "cell_type": "markdown",
      "metadata": {
        "id": "B6KLY2EkOoV6"
      },
      "source": [
        "#Import Library"
      ]
    },
    {
      "cell_type": "markdown",
      "source": [
        "1.pandas คือ library สำหรับจัดการ dataframe\n",
        "\n",
        "2.numpy คือ library ที่รวมชุดคำสั่งด้านการคำนวณ​และการทำงานเชิงตัวเลข\n",
        "\n",
        "3.matplotlib คือ library ที่นิยมใช้มากที่สุดในการ Plot Graph\n",
        "\n",
        "4.seaborn คือ library ที่มีคำสั่งใช้สร้างกราฟต่างๆ หลายรูปแบบที่สามารถปรับเปลี่ยนการแสดงผล สี เนื้อหา รายละเอียดต่างๆ ได้ครบถ้วน\n",
        "\n",
        "5.StandardScaler คือ นำเสนอฟังก์ชัน StandardScaler() จากไลบรารี่ scikit-learn เพื่อสร้างมาตรฐานให้กับค่าข้อมูลในรูปแบบมาตรฐาน\n",
        "\n",
        "6.train_test_split คือ ฟังก์ชั่น train_test_split() จากไลบรารี่ scikit-learn แบบคืนค่า 2 ตัวแปร จะมีหลักการแบ่งข้อมูลจากจำนวนแถวทั้งหมดออกเป็น 2 กลุ่ม"
      ],
      "metadata": {
        "id": "qAC5iRyKQsFw"
      }
    },
    {
      "cell_type": "markdown",
      "source": [
        "Libraries หลัก ๆ ที่จำเป็นในวันนี้ส่วนมากเป็นพวกที่ใช้กับ DataFrame เป็นส่วนมาก ใครถนัดแบบอื่นก็สามารถใช้ Libraries อื่นได้เช่นกัน เพราะสุดท้ายแล้ว ความต้องการคือ Data ที่สามารถโยนเข้าไป Train กับ Neural network ได้เท่านั้น"
      ],
      "metadata": {
        "id": "NRxPRWShdci6"
      }
    },
    {
      "cell_type": "code",
      "execution_count": null,
      "metadata": {
        "id": "FLZsmZ7oQDqX"
      },
      "outputs": [],
      "source": [
        "#Import libraries\n",
        "import pandas as pd\n",
        "import numpy as np\n",
        "from matplotlib import pyplot as plt\n",
        "import seaborn as sns\n",
        "from sklearn.preprocessing import StandardScaler\n",
        "from sklearn.model_selection import train_test_split"
      ]
    },
    {
      "cell_type": "markdown",
      "metadata": {
        "id": "ybHmNCvKO1gz"
      },
      "source": [
        "#**Import dataset**"
      ]
    },
    {
      "cell_type": "markdown",
      "source": [
        "1.   อ่านไฟล์ csv ด้วย pandas\n",
        "2.   ดู dimension ของ dataframe ว่ามีจำนวน columns, rows เท่าไหร่"
      ],
      "metadata": {
        "id": "H9trg0noQSFU"
      }
    },
    {
      "cell_type": "code",
      "execution_count": null,
      "metadata": {
        "id": "PF4tdwiXO0rL",
        "colab": {
          "base_uri": "https://localhost:8080/"
        },
        "outputId": "59b0e2db-1e66-4ecb-b9e4-0d93594dfdbb"
      },
      "outputs": [
        {
          "output_type": "execute_result",
          "data": {
            "text/plain": [
              "(284807, 31)"
            ]
          },
          "metadata": {},
          "execution_count": 5
        }
      ],
      "source": [
        "#Import dataset\n",
        "df = pd.read_csv('/content/drive/MyDrive/DS/DS-Finance/creditcard.csv')\n",
        "df.shape"
      ]
    },
    {
      "cell_type": "markdown",
      "metadata": {
        "id": "hzJdMsbyPYrw"
      },
      "source": [
        "#**Exploratory Data Analysis**"
      ]
    },
    {
      "cell_type": "markdown",
      "source": [
        "แสดง DataFrame 10 แถวบนสุด"
      ],
      "metadata": {
        "id": "aDsCSz3LRBkx"
      }
    },
    {
      "cell_type": "code",
      "execution_count": null,
      "metadata": {
        "id": "WzoFsAjTPmUh",
        "colab": {
          "base_uri": "https://localhost:8080/",
          "height": 412
        },
        "outputId": "4c7ef19c-98a3-4cf0-be28-711cff25155a"
      },
      "outputs": [
        {
          "output_type": "execute_result",
          "data": {
            "text/plain": [
              "   Time        V1        V2        V3        V4        V5        V6        V7  \\\n",
              "0   0.0 -1.359807 -0.072781  2.536347  1.378155 -0.338321  0.462388  0.239599   \n",
              "1   0.0  1.191857  0.266151  0.166480  0.448154  0.060018 -0.082361 -0.078803   \n",
              "2   1.0 -1.358354 -1.340163  1.773209  0.379780 -0.503198  1.800499  0.791461   \n",
              "3   1.0 -0.966272 -0.185226  1.792993 -0.863291 -0.010309  1.247203  0.237609   \n",
              "4   2.0 -1.158233  0.877737  1.548718  0.403034 -0.407193  0.095921  0.592941   \n",
              "5   2.0 -0.425966  0.960523  1.141109 -0.168252  0.420987 -0.029728  0.476201   \n",
              "6   4.0  1.229658  0.141004  0.045371  1.202613  0.191881  0.272708 -0.005159   \n",
              "7   7.0 -0.644269  1.417964  1.074380 -0.492199  0.948934  0.428118  1.120631   \n",
              "8   7.0 -0.894286  0.286157 -0.113192 -0.271526  2.669599  3.721818  0.370145   \n",
              "9   9.0 -0.338262  1.119593  1.044367 -0.222187  0.499361 -0.246761  0.651583   \n",
              "\n",
              "         V8        V9  ...       V21       V22       V23       V24       V25  \\\n",
              "0  0.098698  0.363787  ... -0.018307  0.277838 -0.110474  0.066928  0.128539   \n",
              "1  0.085102 -0.255425  ... -0.225775 -0.638672  0.101288 -0.339846  0.167170   \n",
              "2  0.247676 -1.514654  ...  0.247998  0.771679  0.909412 -0.689281 -0.327642   \n",
              "3  0.377436 -1.387024  ... -0.108300  0.005274 -0.190321 -1.175575  0.647376   \n",
              "4 -0.270533  0.817739  ... -0.009431  0.798278 -0.137458  0.141267 -0.206010   \n",
              "5  0.260314 -0.568671  ... -0.208254 -0.559825 -0.026398 -0.371427 -0.232794   \n",
              "6  0.081213  0.464960  ... -0.167716 -0.270710 -0.154104 -0.780055  0.750137   \n",
              "7 -3.807864  0.615375  ...  1.943465 -1.015455  0.057504 -0.649709 -0.415267   \n",
              "8  0.851084 -0.392048  ... -0.073425 -0.268092 -0.204233  1.011592  0.373205   \n",
              "9  0.069539 -0.736727  ... -0.246914 -0.633753 -0.120794 -0.385050 -0.069733   \n",
              "\n",
              "        V26       V27       V28  Amount  Class  \n",
              "0 -0.189115  0.133558 -0.021053  149.62      0  \n",
              "1  0.125895 -0.008983  0.014724    2.69      0  \n",
              "2 -0.139097 -0.055353 -0.059752  378.66      0  \n",
              "3 -0.221929  0.062723  0.061458  123.50      0  \n",
              "4  0.502292  0.219422  0.215153   69.99      0  \n",
              "5  0.105915  0.253844  0.081080    3.67      0  \n",
              "6 -0.257237  0.034507  0.005168    4.99      0  \n",
              "7 -0.051634 -1.206921 -1.085339   40.80      0  \n",
              "8 -0.384157  0.011747  0.142404   93.20      0  \n",
              "9  0.094199  0.246219  0.083076    3.68      0  \n",
              "\n",
              "[10 rows x 31 columns]"
            ],
            "text/html": [
              "\n",
              "  <div id=\"df-5a90f1e1-49d8-466f-8523-4589a08b5b8d\" class=\"colab-df-container\">\n",
              "    <div>\n",
              "<style scoped>\n",
              "    .dataframe tbody tr th:only-of-type {\n",
              "        vertical-align: middle;\n",
              "    }\n",
              "\n",
              "    .dataframe tbody tr th {\n",
              "        vertical-align: top;\n",
              "    }\n",
              "\n",
              "    .dataframe thead th {\n",
              "        text-align: right;\n",
              "    }\n",
              "</style>\n",
              "<table border=\"1\" class=\"dataframe\">\n",
              "  <thead>\n",
              "    <tr style=\"text-align: right;\">\n",
              "      <th></th>\n",
              "      <th>Time</th>\n",
              "      <th>V1</th>\n",
              "      <th>V2</th>\n",
              "      <th>V3</th>\n",
              "      <th>V4</th>\n",
              "      <th>V5</th>\n",
              "      <th>V6</th>\n",
              "      <th>V7</th>\n",
              "      <th>V8</th>\n",
              "      <th>V9</th>\n",
              "      <th>...</th>\n",
              "      <th>V21</th>\n",
              "      <th>V22</th>\n",
              "      <th>V23</th>\n",
              "      <th>V24</th>\n",
              "      <th>V25</th>\n",
              "      <th>V26</th>\n",
              "      <th>V27</th>\n",
              "      <th>V28</th>\n",
              "      <th>Amount</th>\n",
              "      <th>Class</th>\n",
              "    </tr>\n",
              "  </thead>\n",
              "  <tbody>\n",
              "    <tr>\n",
              "      <th>0</th>\n",
              "      <td>0.0</td>\n",
              "      <td>-1.359807</td>\n",
              "      <td>-0.072781</td>\n",
              "      <td>2.536347</td>\n",
              "      <td>1.378155</td>\n",
              "      <td>-0.338321</td>\n",
              "      <td>0.462388</td>\n",
              "      <td>0.239599</td>\n",
              "      <td>0.098698</td>\n",
              "      <td>0.363787</td>\n",
              "      <td>...</td>\n",
              "      <td>-0.018307</td>\n",
              "      <td>0.277838</td>\n",
              "      <td>-0.110474</td>\n",
              "      <td>0.066928</td>\n",
              "      <td>0.128539</td>\n",
              "      <td>-0.189115</td>\n",
              "      <td>0.133558</td>\n",
              "      <td>-0.021053</td>\n",
              "      <td>149.62</td>\n",
              "      <td>0</td>\n",
              "    </tr>\n",
              "    <tr>\n",
              "      <th>1</th>\n",
              "      <td>0.0</td>\n",
              "      <td>1.191857</td>\n",
              "      <td>0.266151</td>\n",
              "      <td>0.166480</td>\n",
              "      <td>0.448154</td>\n",
              "      <td>0.060018</td>\n",
              "      <td>-0.082361</td>\n",
              "      <td>-0.078803</td>\n",
              "      <td>0.085102</td>\n",
              "      <td>-0.255425</td>\n",
              "      <td>...</td>\n",
              "      <td>-0.225775</td>\n",
              "      <td>-0.638672</td>\n",
              "      <td>0.101288</td>\n",
              "      <td>-0.339846</td>\n",
              "      <td>0.167170</td>\n",
              "      <td>0.125895</td>\n",
              "      <td>-0.008983</td>\n",
              "      <td>0.014724</td>\n",
              "      <td>2.69</td>\n",
              "      <td>0</td>\n",
              "    </tr>\n",
              "    <tr>\n",
              "      <th>2</th>\n",
              "      <td>1.0</td>\n",
              "      <td>-1.358354</td>\n",
              "      <td>-1.340163</td>\n",
              "      <td>1.773209</td>\n",
              "      <td>0.379780</td>\n",
              "      <td>-0.503198</td>\n",
              "      <td>1.800499</td>\n",
              "      <td>0.791461</td>\n",
              "      <td>0.247676</td>\n",
              "      <td>-1.514654</td>\n",
              "      <td>...</td>\n",
              "      <td>0.247998</td>\n",
              "      <td>0.771679</td>\n",
              "      <td>0.909412</td>\n",
              "      <td>-0.689281</td>\n",
              "      <td>-0.327642</td>\n",
              "      <td>-0.139097</td>\n",
              "      <td>-0.055353</td>\n",
              "      <td>-0.059752</td>\n",
              "      <td>378.66</td>\n",
              "      <td>0</td>\n",
              "    </tr>\n",
              "    <tr>\n",
              "      <th>3</th>\n",
              "      <td>1.0</td>\n",
              "      <td>-0.966272</td>\n",
              "      <td>-0.185226</td>\n",
              "      <td>1.792993</td>\n",
              "      <td>-0.863291</td>\n",
              "      <td>-0.010309</td>\n",
              "      <td>1.247203</td>\n",
              "      <td>0.237609</td>\n",
              "      <td>0.377436</td>\n",
              "      <td>-1.387024</td>\n",
              "      <td>...</td>\n",
              "      <td>-0.108300</td>\n",
              "      <td>0.005274</td>\n",
              "      <td>-0.190321</td>\n",
              "      <td>-1.175575</td>\n",
              "      <td>0.647376</td>\n",
              "      <td>-0.221929</td>\n",
              "      <td>0.062723</td>\n",
              "      <td>0.061458</td>\n",
              "      <td>123.50</td>\n",
              "      <td>0</td>\n",
              "    </tr>\n",
              "    <tr>\n",
              "      <th>4</th>\n",
              "      <td>2.0</td>\n",
              "      <td>-1.158233</td>\n",
              "      <td>0.877737</td>\n",
              "      <td>1.548718</td>\n",
              "      <td>0.403034</td>\n",
              "      <td>-0.407193</td>\n",
              "      <td>0.095921</td>\n",
              "      <td>0.592941</td>\n",
              "      <td>-0.270533</td>\n",
              "      <td>0.817739</td>\n",
              "      <td>...</td>\n",
              "      <td>-0.009431</td>\n",
              "      <td>0.798278</td>\n",
              "      <td>-0.137458</td>\n",
              "      <td>0.141267</td>\n",
              "      <td>-0.206010</td>\n",
              "      <td>0.502292</td>\n",
              "      <td>0.219422</td>\n",
              "      <td>0.215153</td>\n",
              "      <td>69.99</td>\n",
              "      <td>0</td>\n",
              "    </tr>\n",
              "    <tr>\n",
              "      <th>5</th>\n",
              "      <td>2.0</td>\n",
              "      <td>-0.425966</td>\n",
              "      <td>0.960523</td>\n",
              "      <td>1.141109</td>\n",
              "      <td>-0.168252</td>\n",
              "      <td>0.420987</td>\n",
              "      <td>-0.029728</td>\n",
              "      <td>0.476201</td>\n",
              "      <td>0.260314</td>\n",
              "      <td>-0.568671</td>\n",
              "      <td>...</td>\n",
              "      <td>-0.208254</td>\n",
              "      <td>-0.559825</td>\n",
              "      <td>-0.026398</td>\n",
              "      <td>-0.371427</td>\n",
              "      <td>-0.232794</td>\n",
              "      <td>0.105915</td>\n",
              "      <td>0.253844</td>\n",
              "      <td>0.081080</td>\n",
              "      <td>3.67</td>\n",
              "      <td>0</td>\n",
              "    </tr>\n",
              "    <tr>\n",
              "      <th>6</th>\n",
              "      <td>4.0</td>\n",
              "      <td>1.229658</td>\n",
              "      <td>0.141004</td>\n",
              "      <td>0.045371</td>\n",
              "      <td>1.202613</td>\n",
              "      <td>0.191881</td>\n",
              "      <td>0.272708</td>\n",
              "      <td>-0.005159</td>\n",
              "      <td>0.081213</td>\n",
              "      <td>0.464960</td>\n",
              "      <td>...</td>\n",
              "      <td>-0.167716</td>\n",
              "      <td>-0.270710</td>\n",
              "      <td>-0.154104</td>\n",
              "      <td>-0.780055</td>\n",
              "      <td>0.750137</td>\n",
              "      <td>-0.257237</td>\n",
              "      <td>0.034507</td>\n",
              "      <td>0.005168</td>\n",
              "      <td>4.99</td>\n",
              "      <td>0</td>\n",
              "    </tr>\n",
              "    <tr>\n",
              "      <th>7</th>\n",
              "      <td>7.0</td>\n",
              "      <td>-0.644269</td>\n",
              "      <td>1.417964</td>\n",
              "      <td>1.074380</td>\n",
              "      <td>-0.492199</td>\n",
              "      <td>0.948934</td>\n",
              "      <td>0.428118</td>\n",
              "      <td>1.120631</td>\n",
              "      <td>-3.807864</td>\n",
              "      <td>0.615375</td>\n",
              "      <td>...</td>\n",
              "      <td>1.943465</td>\n",
              "      <td>-1.015455</td>\n",
              "      <td>0.057504</td>\n",
              "      <td>-0.649709</td>\n",
              "      <td>-0.415267</td>\n",
              "      <td>-0.051634</td>\n",
              "      <td>-1.206921</td>\n",
              "      <td>-1.085339</td>\n",
              "      <td>40.80</td>\n",
              "      <td>0</td>\n",
              "    </tr>\n",
              "    <tr>\n",
              "      <th>8</th>\n",
              "      <td>7.0</td>\n",
              "      <td>-0.894286</td>\n",
              "      <td>0.286157</td>\n",
              "      <td>-0.113192</td>\n",
              "      <td>-0.271526</td>\n",
              "      <td>2.669599</td>\n",
              "      <td>3.721818</td>\n",
              "      <td>0.370145</td>\n",
              "      <td>0.851084</td>\n",
              "      <td>-0.392048</td>\n",
              "      <td>...</td>\n",
              "      <td>-0.073425</td>\n",
              "      <td>-0.268092</td>\n",
              "      <td>-0.204233</td>\n",
              "      <td>1.011592</td>\n",
              "      <td>0.373205</td>\n",
              "      <td>-0.384157</td>\n",
              "      <td>0.011747</td>\n",
              "      <td>0.142404</td>\n",
              "      <td>93.20</td>\n",
              "      <td>0</td>\n",
              "    </tr>\n",
              "    <tr>\n",
              "      <th>9</th>\n",
              "      <td>9.0</td>\n",
              "      <td>-0.338262</td>\n",
              "      <td>1.119593</td>\n",
              "      <td>1.044367</td>\n",
              "      <td>-0.222187</td>\n",
              "      <td>0.499361</td>\n",
              "      <td>-0.246761</td>\n",
              "      <td>0.651583</td>\n",
              "      <td>0.069539</td>\n",
              "      <td>-0.736727</td>\n",
              "      <td>...</td>\n",
              "      <td>-0.246914</td>\n",
              "      <td>-0.633753</td>\n",
              "      <td>-0.120794</td>\n",
              "      <td>-0.385050</td>\n",
              "      <td>-0.069733</td>\n",
              "      <td>0.094199</td>\n",
              "      <td>0.246219</td>\n",
              "      <td>0.083076</td>\n",
              "      <td>3.68</td>\n",
              "      <td>0</td>\n",
              "    </tr>\n",
              "  </tbody>\n",
              "</table>\n",
              "<p>10 rows × 31 columns</p>\n",
              "</div>\n",
              "    <div class=\"colab-df-buttons\">\n",
              "\n",
              "  <div class=\"colab-df-container\">\n",
              "    <button class=\"colab-df-convert\" onclick=\"convertToInteractive('df-5a90f1e1-49d8-466f-8523-4589a08b5b8d')\"\n",
              "            title=\"Convert this dataframe to an interactive table.\"\n",
              "            style=\"display:none;\">\n",
              "\n",
              "  <svg xmlns=\"http://www.w3.org/2000/svg\" height=\"24px\" viewBox=\"0 -960 960 960\">\n",
              "    <path d=\"M120-120v-720h720v720H120Zm60-500h600v-160H180v160Zm220 220h160v-160H400v160Zm0 220h160v-160H400v160ZM180-400h160v-160H180v160Zm440 0h160v-160H620v160ZM180-180h160v-160H180v160Zm440 0h160v-160H620v160Z\"/>\n",
              "  </svg>\n",
              "    </button>\n",
              "\n",
              "  <style>\n",
              "    .colab-df-container {\n",
              "      display:flex;\n",
              "      gap: 12px;\n",
              "    }\n",
              "\n",
              "    .colab-df-convert {\n",
              "      background-color: #E8F0FE;\n",
              "      border: none;\n",
              "      border-radius: 50%;\n",
              "      cursor: pointer;\n",
              "      display: none;\n",
              "      fill: #1967D2;\n",
              "      height: 32px;\n",
              "      padding: 0 0 0 0;\n",
              "      width: 32px;\n",
              "    }\n",
              "\n",
              "    .colab-df-convert:hover {\n",
              "      background-color: #E2EBFA;\n",
              "      box-shadow: 0px 1px 2px rgba(60, 64, 67, 0.3), 0px 1px 3px 1px rgba(60, 64, 67, 0.15);\n",
              "      fill: #174EA6;\n",
              "    }\n",
              "\n",
              "    .colab-df-buttons div {\n",
              "      margin-bottom: 4px;\n",
              "    }\n",
              "\n",
              "    [theme=dark] .colab-df-convert {\n",
              "      background-color: #3B4455;\n",
              "      fill: #D2E3FC;\n",
              "    }\n",
              "\n",
              "    [theme=dark] .colab-df-convert:hover {\n",
              "      background-color: #434B5C;\n",
              "      box-shadow: 0px 1px 3px 1px rgba(0, 0, 0, 0.15);\n",
              "      filter: drop-shadow(0px 1px 2px rgba(0, 0, 0, 0.3));\n",
              "      fill: #FFFFFF;\n",
              "    }\n",
              "  </style>\n",
              "\n",
              "    <script>\n",
              "      const buttonEl =\n",
              "        document.querySelector('#df-5a90f1e1-49d8-466f-8523-4589a08b5b8d button.colab-df-convert');\n",
              "      buttonEl.style.display =\n",
              "        google.colab.kernel.accessAllowed ? 'block' : 'none';\n",
              "\n",
              "      async function convertToInteractive(key) {\n",
              "        const element = document.querySelector('#df-5a90f1e1-49d8-466f-8523-4589a08b5b8d');\n",
              "        const dataTable =\n",
              "          await google.colab.kernel.invokeFunction('convertToInteractive',\n",
              "                                                    [key], {});\n",
              "        if (!dataTable) return;\n",
              "\n",
              "        const docLinkHtml = 'Like what you see? Visit the ' +\n",
              "          '<a target=\"_blank\" href=https://colab.research.google.com/notebooks/data_table.ipynb>data table notebook</a>'\n",
              "          + ' to learn more about interactive tables.';\n",
              "        element.innerHTML = '';\n",
              "        dataTable['output_type'] = 'display_data';\n",
              "        await google.colab.output.renderOutput(dataTable, element);\n",
              "        const docLink = document.createElement('div');\n",
              "        docLink.innerHTML = docLinkHtml;\n",
              "        element.appendChild(docLink);\n",
              "      }\n",
              "    </script>\n",
              "  </div>\n",
              "\n",
              "\n",
              "<div id=\"df-353fc8db-c689-4eb0-ba29-9c40db99e5b3\">\n",
              "  <button class=\"colab-df-quickchart\" onclick=\"quickchart('df-353fc8db-c689-4eb0-ba29-9c40db99e5b3')\"\n",
              "            title=\"Suggest charts.\"\n",
              "            style=\"display:none;\">\n",
              "\n",
              "<svg xmlns=\"http://www.w3.org/2000/svg\" height=\"24px\"viewBox=\"0 0 24 24\"\n",
              "     width=\"24px\">\n",
              "    <g>\n",
              "        <path d=\"M19 3H5c-1.1 0-2 .9-2 2v14c0 1.1.9 2 2 2h14c1.1 0 2-.9 2-2V5c0-1.1-.9-2-2-2zM9 17H7v-7h2v7zm4 0h-2V7h2v10zm4 0h-2v-4h2v4z\"/>\n",
              "    </g>\n",
              "</svg>\n",
              "  </button>\n",
              "\n",
              "<style>\n",
              "  .colab-df-quickchart {\n",
              "      --bg-color: #E8F0FE;\n",
              "      --fill-color: #1967D2;\n",
              "      --hover-bg-color: #E2EBFA;\n",
              "      --hover-fill-color: #174EA6;\n",
              "      --disabled-fill-color: #AAA;\n",
              "      --disabled-bg-color: #DDD;\n",
              "  }\n",
              "\n",
              "  [theme=dark] .colab-df-quickchart {\n",
              "      --bg-color: #3B4455;\n",
              "      --fill-color: #D2E3FC;\n",
              "      --hover-bg-color: #434B5C;\n",
              "      --hover-fill-color: #FFFFFF;\n",
              "      --disabled-bg-color: #3B4455;\n",
              "      --disabled-fill-color: #666;\n",
              "  }\n",
              "\n",
              "  .colab-df-quickchart {\n",
              "    background-color: var(--bg-color);\n",
              "    border: none;\n",
              "    border-radius: 50%;\n",
              "    cursor: pointer;\n",
              "    display: none;\n",
              "    fill: var(--fill-color);\n",
              "    height: 32px;\n",
              "    padding: 0;\n",
              "    width: 32px;\n",
              "  }\n",
              "\n",
              "  .colab-df-quickchart:hover {\n",
              "    background-color: var(--hover-bg-color);\n",
              "    box-shadow: 0 1px 2px rgba(60, 64, 67, 0.3), 0 1px 3px 1px rgba(60, 64, 67, 0.15);\n",
              "    fill: var(--button-hover-fill-color);\n",
              "  }\n",
              "\n",
              "  .colab-df-quickchart-complete:disabled,\n",
              "  .colab-df-quickchart-complete:disabled:hover {\n",
              "    background-color: var(--disabled-bg-color);\n",
              "    fill: var(--disabled-fill-color);\n",
              "    box-shadow: none;\n",
              "  }\n",
              "\n",
              "  .colab-df-spinner {\n",
              "    border: 2px solid var(--fill-color);\n",
              "    border-color: transparent;\n",
              "    border-bottom-color: var(--fill-color);\n",
              "    animation:\n",
              "      spin 1s steps(1) infinite;\n",
              "  }\n",
              "\n",
              "  @keyframes spin {\n",
              "    0% {\n",
              "      border-color: transparent;\n",
              "      border-bottom-color: var(--fill-color);\n",
              "      border-left-color: var(--fill-color);\n",
              "    }\n",
              "    20% {\n",
              "      border-color: transparent;\n",
              "      border-left-color: var(--fill-color);\n",
              "      border-top-color: var(--fill-color);\n",
              "    }\n",
              "    30% {\n",
              "      border-color: transparent;\n",
              "      border-left-color: var(--fill-color);\n",
              "      border-top-color: var(--fill-color);\n",
              "      border-right-color: var(--fill-color);\n",
              "    }\n",
              "    40% {\n",
              "      border-color: transparent;\n",
              "      border-right-color: var(--fill-color);\n",
              "      border-top-color: var(--fill-color);\n",
              "    }\n",
              "    60% {\n",
              "      border-color: transparent;\n",
              "      border-right-color: var(--fill-color);\n",
              "    }\n",
              "    80% {\n",
              "      border-color: transparent;\n",
              "      border-right-color: var(--fill-color);\n",
              "      border-bottom-color: var(--fill-color);\n",
              "    }\n",
              "    90% {\n",
              "      border-color: transparent;\n",
              "      border-bottom-color: var(--fill-color);\n",
              "    }\n",
              "  }\n",
              "</style>\n",
              "\n",
              "  <script>\n",
              "    async function quickchart(key) {\n",
              "      const quickchartButtonEl =\n",
              "        document.querySelector('#' + key + ' button');\n",
              "      quickchartButtonEl.disabled = true;  // To prevent multiple clicks.\n",
              "      quickchartButtonEl.classList.add('colab-df-spinner');\n",
              "      try {\n",
              "        const charts = await google.colab.kernel.invokeFunction(\n",
              "            'suggestCharts', [key], {});\n",
              "      } catch (error) {\n",
              "        console.error('Error during call to suggestCharts:', error);\n",
              "      }\n",
              "      quickchartButtonEl.classList.remove('colab-df-spinner');\n",
              "      quickchartButtonEl.classList.add('colab-df-quickchart-complete');\n",
              "    }\n",
              "    (() => {\n",
              "      let quickchartButtonEl =\n",
              "        document.querySelector('#df-353fc8db-c689-4eb0-ba29-9c40db99e5b3 button');\n",
              "      quickchartButtonEl.style.display =\n",
              "        google.colab.kernel.accessAllowed ? 'block' : 'none';\n",
              "    })();\n",
              "  </script>\n",
              "</div>\n",
              "    </div>\n",
              "  </div>\n"
            ]
          },
          "metadata": {},
          "execution_count": 6
        }
      ],
      "source": [
        "df.head(10)"
      ]
    },
    {
      "cell_type": "markdown",
      "source": [
        "ดู information แบบเต็มๆของ dataframe"
      ],
      "metadata": {
        "id": "lGL5Fo--Rs-i"
      }
    },
    {
      "cell_type": "markdown",
      "source": [
        "list รายชื่อคอลัมน์ทั้งหมดของ dataframe จำนวน complete values (และ missing values) และ Dtype คือประเภทข้อมูล\n",
        "\n",
        "object คือคอลัมน์ที่เป็น text, string\n",
        "\n",
        "float64 คือคอลัมน์ที่เป็นตัวเลข numeric แบบมีทศนิยมได้\n",
        "\n",
        "int64 คือ ตัวเลขจำนวนเต็ม"
      ],
      "metadata": {
        "id": "mO-RRg2GSM0i"
      }
    },
    {
      "cell_type": "code",
      "source": [
        "df.info()"
      ],
      "metadata": {
        "colab": {
          "base_uri": "https://localhost:8080/"
        },
        "id": "cuLIApM_RuDn",
        "outputId": "cb0f2fc4-e042-4c22-d743-e6f8d8b8c621"
      },
      "execution_count": null,
      "outputs": [
        {
          "output_type": "stream",
          "name": "stdout",
          "text": [
            "<class 'pandas.core.frame.DataFrame'>\n",
            "RangeIndex: 284807 entries, 0 to 284806\n",
            "Data columns (total 31 columns):\n",
            " #   Column  Non-Null Count   Dtype  \n",
            "---  ------  --------------   -----  \n",
            " 0   Time    284807 non-null  float64\n",
            " 1   V1      284807 non-null  float64\n",
            " 2   V2      284807 non-null  float64\n",
            " 3   V3      284807 non-null  float64\n",
            " 4   V4      284807 non-null  float64\n",
            " 5   V5      284807 non-null  float64\n",
            " 6   V6      284807 non-null  float64\n",
            " 7   V7      284807 non-null  float64\n",
            " 8   V8      284807 non-null  float64\n",
            " 9   V9      284807 non-null  float64\n",
            " 10  V10     284807 non-null  float64\n",
            " 11  V11     284807 non-null  float64\n",
            " 12  V12     284807 non-null  float64\n",
            " 13  V13     284807 non-null  float64\n",
            " 14  V14     284807 non-null  float64\n",
            " 15  V15     284807 non-null  float64\n",
            " 16  V16     284807 non-null  float64\n",
            " 17  V17     284807 non-null  float64\n",
            " 18  V18     284807 non-null  float64\n",
            " 19  V19     284807 non-null  float64\n",
            " 20  V20     284807 non-null  float64\n",
            " 21  V21     284807 non-null  float64\n",
            " 22  V22     284807 non-null  float64\n",
            " 23  V23     284807 non-null  float64\n",
            " 24  V24     284807 non-null  float64\n",
            " 25  V25     284807 non-null  float64\n",
            " 26  V26     284807 non-null  float64\n",
            " 27  V27     284807 non-null  float64\n",
            " 28  V28     284807 non-null  float64\n",
            " 29  Amount  284807 non-null  float64\n",
            " 30  Class   284807 non-null  int64  \n",
            "dtypes: float64(30), int64(1)\n",
            "memory usage: 67.4 MB\n"
          ]
        }
      ]
    },
    {
      "cell_type": "code",
      "source": [
        "# Good No Null Values!\n",
        "df.isnull().sum().max()"
      ],
      "metadata": {
        "colab": {
          "base_uri": "https://localhost:8080/"
        },
        "id": "XEoSZcSbfIps",
        "outputId": "d4ab5911-e5ff-4e86-af07-303979b174d0"
      },
      "execution_count": null,
      "outputs": [
        {
          "output_type": "execute_result",
          "data": {
            "text/plain": [
              "0"
            ]
          },
          "metadata": {},
          "execution_count": 8
        }
      ]
    },
    {
      "cell_type": "code",
      "source": [
        "df.columns"
      ],
      "metadata": {
        "colab": {
          "base_uri": "https://localhost:8080/"
        },
        "id": "nbVXYwmYfQZC",
        "outputId": "b99e0a53-1f20-4ba9-e822-2b6dc04eed9c"
      },
      "execution_count": null,
      "outputs": [
        {
          "output_type": "execute_result",
          "data": {
            "text/plain": [
              "Index(['Time', 'V1', 'V2', 'V3', 'V4', 'V5', 'V6', 'V7', 'V8', 'V9', 'V10',\n",
              "       'V11', 'V12', 'V13', 'V14', 'V15', 'V16', 'V17', 'V18', 'V19', 'V20',\n",
              "       'V21', 'V22', 'V23', 'V24', 'V25', 'V26', 'V27', 'V28', 'Amount',\n",
              "       'Class'],\n",
              "      dtype='object')"
            ]
          },
          "metadata": {},
          "execution_count": 9
        }
      ]
    },
    {
      "cell_type": "markdown",
      "source": [
        "Data visualization\n",
        "\n",
        "ใช้ seaborn.countplot() และผ่าน Column ที่ต้องการนับจำนวนเข้าไป ในที่นี้ก็คือ Class ที่มีการทำ Normal cases และ Fraud cases ไว้ เห็นได้ว่าจำนวนเคสปกติมีทั้งหมด 284,315 และเคสทุจริตมีเพียง 492 เท่านั้น"
      ],
      "metadata": {
        "id": "ovhG3mDaZRCM"
      }
    },
    {
      "cell_type": "code",
      "execution_count": null,
      "metadata": {
        "colab": {
          "base_uri": "https://localhost:8080/",
          "height": 472
        },
        "id": "OmmU8swlSDse",
        "outputId": "4a1f51aa-3e50-4743-b787-be42c1666f24"
      },
      "outputs": [
        {
          "output_type": "display_data",
          "data": {
            "text/plain": [
              "<Figure size 640x480 with 1 Axes>"
            ],
            "image/png": "[encoded data removed]"
          },
          "metadata": {}
        }
      ],
      "source": [
        "#Data visualization\n",
        "colors = [\"#0101DF\", \"#DF0101\"]\n",
        "sns.countplot(x ='Class', palette=colors,  data = df)\n",
        "for v in [0,1]:\n",
        "  plt.text(v, (df['Class'] == v).sum(), str((df['Class'] == v).sum()),\n",
        "           horizontalalignment = 'center',\n",
        "           verticalalignment = 'bottom',\n",
        "           fontsize = 12)\n",
        "\n",
        "# Show the plot\n",
        "plt.title('Transaction distribution')\n",
        "plt.xlabel('Class')\n",
        "plt.ylabel('Observation')\n",
        "plt.show()"
      ]
    },
    {
      "cell_type": "code",
      "source": [
        "# The classes are heavily skewed we need to solve this issue later.\n",
        "print('No Frauds', round(df['Class'].value_counts()[0]/len(df) * 100,2), '% of the dataset')\n",
        "print('Frauds', round(df['Class'].value_counts()[1]/len(df) * 100,2), '% of the dataset')"
      ],
      "metadata": {
        "id": "Xj1B6LSffWgZ",
        "colab": {
          "base_uri": "https://localhost:8080/"
        },
        "outputId": "33e0e7fb-c87e-4129-97bd-dadea8913092"
      },
      "execution_count": null,
      "outputs": [
        {
          "output_type": "stream",
          "name": "stdout",
          "text": [
            "No Frauds 99.83 % of the dataset\n",
            "Frauds 0.17 % of the dataset\n"
          ]
        }
      ]
    },
    {
      "cell_type": "code",
      "source": [
        "frauds = df[df.Class == 1]\n",
        "normal = df[df.Class == 0]"
      ],
      "metadata": {
        "id": "3b23eVpB4zcI"
      },
      "execution_count": null,
      "outputs": []
    },
    {
      "cell_type": "code",
      "source": [
        "frauds.shape"
      ],
      "metadata": {
        "colab": {
          "base_uri": "https://localhost:8080/"
        },
        "id": "WAXzMxeT44Ln",
        "outputId": "8e74800b-080b-4b27-abac-91e5886349dd"
      },
      "execution_count": null,
      "outputs": [
        {
          "output_type": "execute_result",
          "data": {
            "text/plain": [
              "(492, 31)"
            ]
          },
          "metadata": {},
          "execution_count": 13
        }
      ]
    },
    {
      "cell_type": "code",
      "source": [
        "normal.shape"
      ],
      "metadata": {
        "colab": {
          "base_uri": "https://localhost:8080/"
        },
        "id": "Ts-d7Hws48ZV",
        "outputId": "dc4399bb-e717-481b-9225-b3d774f75ffb"
      },
      "execution_count": null,
      "outputs": [
        {
          "output_type": "execute_result",
          "data": {
            "text/plain": [
              "(284315, 31)"
            ]
          },
          "metadata": {},
          "execution_count": 14
        }
      ]
    },
    {
      "cell_type": "code",
      "source": [
        "f, (ax1, ax2) = plt.subplots(2, 1, figsize=(8, 4),sharex=True)\n",
        "f.suptitle('Amount per transaction by class')\n",
        "\n",
        "bins = 50\n",
        "\n",
        "ax1.hist(frauds.Amount, bins = bins)\n",
        "ax1.set_title('Fraud')\n",
        "\n",
        "ax2.hist(normal.Amount, bins = bins)\n",
        "ax2.set_title('Normal')\n",
        "\n",
        "plt.xlabel('Amount ($)')\n",
        "plt.ylabel('Number of Transactions')\n",
        "plt.xlim([0, 20000])\n",
        "plt.yscale('log')\n",
        "plt.show();"
      ],
      "metadata": {
        "colab": {
          "base_uri": "https://localhost:8080/",
          "height": 428
        },
        "id": "q2OsycDx4n5g",
        "outputId": "b141c5ac-e390-4751-a6ec-2eafc616e2db"
      },
      "execution_count": null,
      "outputs": [
        {
          "output_type": "display_data",
          "data": {
            "text/plain": [
              "<Figure size 800x400 with 2 Axes>"
            ],
            "image/png": "[encoded data removed]"
          },
          "metadata": {}
        }
      ]
    },
    {
      "cell_type": "markdown",
      "source": [
        "ธุรกรรมฉ้อโกงเกิดขึ้นบ่อยขึ้นในช่วงเวลาใดเวลาหนึ่งหรือไม่?"
      ],
      "metadata": {
        "id": "ZGXt1yG371uu"
      }
    },
    {
      "cell_type": "code",
      "source": [
        "f, (ax1, ax2) = plt.subplots(2, 1, figsize=(8, 4), sharex=True)\n",
        "f.suptitle('Time of transaction vs Amount by class')\n",
        "\n",
        "ax1.scatter(frauds.Time, frauds.Amount)\n",
        "ax1.set_title('Fraud')\n",
        "\n",
        "ax2.scatter(normal.Time, normal.Amount)\n",
        "ax2.set_title('Normal')\n",
        "\n",
        "plt.xlabel('Time (in Seconds)')\n",
        "plt.ylabel('Amount')\n",
        "plt.show()"
      ],
      "metadata": {
        "colab": {
          "base_uri": "https://localhost:8080/",
          "height": 428
        },
        "id": "9Oj4VnWl73kN",
        "outputId": "95b29a08-3982-4f58-8a28-fc6314549676"
      },
      "execution_count": null,
      "outputs": [
        {
          "output_type": "display_data",
          "data": {
            "text/plain": [
              "<Figure size 800x400 with 2 Axes>"
            ],
            "image/png": "[encoded data removed]"
          },
          "metadata": {}
        }
      ]
    },
    {
      "cell_type": "markdown",
      "source": [
        "Time ดูไม่ค่อยมีความสัมพันธ์มากเท่าไหร่"
      ],
      "metadata": {
        "id": "Hlp4QzGR9En2"
      }
    },
    {
      "cell_type": "markdown",
      "source": [
        "หมายเหตุ: สังเกตว่าชุดข้อมูลดั้งเดิมของเราไม่สมดุลเพียงใด!  imbalanced dataset\n",
        "\n",
        "ธุรกรรมส่วนใหญ่ไม่มีการฉ้อโกง หากเราใช้ดาต้าเฟรมนี้เป็นฐานสำหรับโมเดลการคาดการณ์และการวิเคราะห์ของเรา เราอาจมีข้อผิดพลาดมากมาย และอัลกอริธึมของเราอาจจะพอดีเกินไป เนื่องจากจะ \"assume\" ธุรกรรมส่วนใหญ่ไม่มีการฉ้อโกง แต่เราไม่ต้องการให้แบบจำลองของเราสันนิษฐาน แต่เราต้องการให้แบบจำลองของเราตรวจจับรูปแบบที่ทำให้เกิดสัญญาณของการฉ้อโกง!"
      ],
      "metadata": {
        "id": "kNP95quvfsRp"
      }
    },
    {
      "cell_type": "markdown",
      "source": [
        "#**Data preparation**"
      ],
      "metadata": {
        "id": "Xt_H-Pozd3HW"
      }
    },
    {
      "cell_type": "markdown",
      "source": [
        "เตรียม Dataset ให้พร้อมกับการ Training ของ Network"
      ],
      "metadata": {
        "id": "BOTvbbclpU29"
      }
    },
    {
      "cell_type": "markdown",
      "source": [
        "Drop column Time ไม่ขอนำมาเป็น Feature เพราะดูไม่ค่อยมีความสัมพันธ์มากเท่าไหร่"
      ],
      "metadata": {
        "id": "-DxNR2pypbG9"
      }
    },
    {
      "cell_type": "code",
      "execution_count": null,
      "metadata": {
        "id": "no_GHd1jSTPv"
      },
      "outputs": [],
      "source": [
        "#Data preparation\n",
        "df = df.drop(['Time'], axis = 1) #Don't need to use 'Time' feature"
      ]
    },
    {
      "cell_type": "markdown",
      "source": [
        "ทำการ Scale column 'Amount' ด้วย StandardScaler() เพื่อทำการกำจัด Mean ออกไปก่อน (ทำให้ Basis มันใกล้เคียง PCA)"
      ],
      "metadata": {
        "id": "zPl8U2FTphiV"
      }
    },
    {
      "cell_type": "code",
      "source": [
        "#Scale 'Amount' to remove the mean\n",
        "scale = StandardScaler()\n",
        "df['Amount'] = scale.fit_transform(df['Amount'].values.reshape(-1, 1))"
      ],
      "metadata": {
        "id": "p5V-wG_-pQfV"
      },
      "execution_count": null,
      "outputs": []
    },
    {
      "cell_type": "markdown",
      "source": [
        "ทำการแบ่ง Dataset ด้วย train_test_split\n",
        "\n",
        "โดยแบ่งเป็น 80/20 (สุ่มทีละ 7 ตัว โดยสามารถเปลี่ยนแปลงค่า random_state ตามต้องการ)\n",
        "\n",
        "โดย 20% เอาไว้ทดสอบโมเดลด้วยการทำ Reconstruction error\n",
        "\n",
        "(สิ่งหนึ่งที่ต่างออกไปจากการโมเดลปกติคือ Training dataset มีแค่ Features ของ Class ปกติเท่านั้น ไม่มี Dependence หรือตัวแปร Y เข้ามาเกี่ยวข้อง)"
      ],
      "metadata": {
        "id": "VyNfx8ZHpttV"
      }
    },
    {
      "cell_type": "code",
      "source": [
        "#Split data for training and testing\n",
        "train, test = train_test_split(df, test_size = 0.2, random_state = 7)\n",
        "x_train = train[train['Class'] == 0]\n",
        "x_train = x_train.drop(['Class'], axis = 1)\n",
        "x_test = test.iloc[:,:-1] #Don't need 'Class'\n",
        "\n",
        "y_test = test['Class'] #Need only 'Class' for validation\n",
        "\n",
        "#Covert to values\n",
        "x_train = x_train.values\n",
        "x_test = x_test.values\n",
        "y_test = y_test.values\n",
        "print(x_train.shape)\n",
        "print(x_test.shape)\n",
        "print(y_test.shape)\n"
      ],
      "metadata": {
        "id": "5KxQEmsxpu49",
        "colab": {
          "base_uri": "https://localhost:8080/"
        },
        "outputId": "3ed8d7f6-4601-41fa-f6e3-f1234918dbd5"
      },
      "execution_count": null,
      "outputs": [
        {
          "output_type": "stream",
          "name": "stdout",
          "text": [
            "(227453, 29)\n",
            "(56962, 29)\n",
            "(56962,)\n"
          ]
        }
      ]
    },
    {
      "cell_type": "markdown",
      "source": [
        "#**2 Develop neural network เพื่อสร้าง Model**"
      ],
      "metadata": {
        "id": "qwKjX3B4rWGT"
      }
    },
    {
      "cell_type": "markdown",
      "source": [
        "#Import Library"
      ],
      "metadata": {
        "id": "V8iNoYcasdVj"
      }
    },
    {
      "cell_type": "markdown",
      "source": [
        "keras คือ Deep Learning Library ที่ใช้งานง่าย แต่มีประสิทธิภาพสูงในการรัน Model"
      ],
      "metadata": {
        "id": "H3UFMb4Fstcr"
      }
    },
    {
      "cell_type": "code",
      "execution_count": null,
      "metadata": {
        "id": "u7xyjPHjSfwG"
      },
      "outputs": [],
      "source": [
        "#Import libraries\n",
        "from keras.models import Model, load_model\n",
        "from keras.layers import Input, Dense\n",
        "from keras import regularizers"
      ]
    },
    {
      "cell_type": "markdown",
      "source": [
        "#Autoencoder model\n",
        "\n"
      ],
      "metadata": {
        "id": "W30zKDMTskQk"
      }
    },
    {
      "cell_type": "markdown",
      "source": [
        "กำหนด input_layer ก่อน โดยให้ข้อมูลที่ต้องการ Encode คือ Features ทั้งหมด ซึ่งมีขนาดเท่ากับ Columns shape[1] ที่ DataFrame ที่ทำเอาไว้ตั้งแต่ตอนก่อนหน้า"
      ],
      "metadata": {
        "id": "x7zQuO2twZrS"
      }
    },
    {
      "cell_type": "markdown",
      "source": [
        "**Encoder**"
      ],
      "metadata": {
        "id": "Yc_1CERVw_3t"
      }
    },
    {
      "cell_type": "markdown",
      "source": [
        "Encoder แรกทำการลดมิติของข้อมูลลงไปครึ่งนึง (อันนี้ตามที่ธรรมเนียมปฏิบัติกันมา)\n",
        "\n",
        "ส่วนของ Activation function ขอใช้เป็น ‘tanh’\n",
        "\n",
        "เพราะเนื่องจากข้อมูลเข้ามีค่าน้อยกว่า 0 แล้วใช้ regularizers.l1(learning_rate) เพื่อสกัดเอาเฉพาะ Features ที่มีผลกับข้อมูลออกมา\n",
        "\n",
        "จากนั้นทำ Encoding อีก 1 Layer ลดมิติลงไปอีกครึ่งนึงด้วยการหาร 4 จากข้อมูลทั้งหมด"
      ],
      "metadata": {
        "id": "O5IqtfjEwu5C"
      }
    },
    {
      "cell_type": "markdown",
      "source": [
        "**Decoder**"
      ],
      "metadata": {
        "id": "PPIeEtV_xB_S"
      }
    },
    {
      "cell_type": "markdown",
      "source": [
        "ต่อมาเราทำการขยายมิติข้อมูลกลับให้มีขนาดเท่าเดิมตาม Concept ของ Autoencoder ตามธรรมเนียมนิยมอีกเช่นกัน เรานิยมสร้าง Decode layer ให้เท่ากับขาที่เรา Encode เข้ามา ซึ่งให้เข้าใจง่ายที่สุดคือ เขียนตรงข้ามกับที่เขียนมานั่นเอง"
      ],
      "metadata": {
        "id": "iVN7BxhlxNLx"
      }
    },
    {
      "cell_type": "markdown",
      "source": [
        "**output_layer**"
      ],
      "metadata": {
        "id": "GGPWWkJcxaiB"
      }
    },
    {
      "cell_type": "markdown",
      "source": [
        "output_layer ให้ Activation function เป็น ‘linear’\n",
        "\n",
        "Model() ใส่เป็น input_layer และ output_layer ที่เพิ่งสร้างขึ้นมา เท่านี้เป็นอันเสร็จสำหรับ Neural network ของเราสำหรับ Fraud detection model"
      ],
      "metadata": {
        "id": "0KZHtnPRxWXx"
      }
    },
    {
      "cell_type": "markdown",
      "source": [
        "\n",
        "\n",
        "\n",
        "*   lr_rate การกำหนด learning rate เพื่อให้ค่า weight เปลี่ยนแปลงไปในแต่ละรอบของการเทรน (Epoch)\n",
        "\n",
        "*  **epoch** จำนวนรอบของการเทรน โดยแต่ละ Epoch จะทำให้ Loss ลดลง ในขณะที่ Accuracy เพิ่ม  epoch มีความหมายว่า เมื่อเรานำข้อมูลทั้งหมดมาใช้สอนโมเดลครบหนึ่งรอบ เราเรียกว่า 1 epoch ดังนั้น ถ้าบอกว่ารัน 50 epochs ก็คือเราจะสอนโมเดลด้วยข้อมูลทั้งหมดจนครบ 50 รอบ\n",
        "*   **batch_size** ขนาดของ Batch ซึ่งก็คือจำนวนรายการข้อมูลที่จะให้ Optimiser คำนวนในหนึ่งครั้ง เช่น ข้อมูลมี 2,000 รายการ ถ้ากำหนด Batch size เป็น 32 แปลว่า Optimiser จะต้องทำงาน 62.5 ครั้ง จึงจะครบทั้ง 2,000 รายการ ถ้ากำหนด Epoch เป็น 20 ก็หมายถึงการทำงาน 62.5 ครั้ง 20 รอบ\n",
        "\n",
        "\n"
      ],
      "metadata": {
        "id": "EvG3aECMzUa1"
      }
    },
    {
      "cell_type": "code",
      "source": [
        "#Autoencoder model\n",
        "lr_rate = 1e-3\n",
        "epoch = 200\n",
        "batch_size = 128\n",
        "\n",
        "def autoencoder_model(x):\n",
        "  input_layer = Input(shape = (x.shape[1], ))\n",
        "  encoder = Dense(x.shape[1] // 2, activation = 'tanh', activity_regularizer = regularizers.l1(lr_rate))(input_layer)\n",
        "  encoder = Dense(x.shape[1] // 4, activation = 'relu')(encoder)\n",
        "  decoder = Dense(x.shape[1] // 4, activation = 'relu')(encoder)\n",
        "  decoder = Dense(x.shape[1] // 2, activation = 'tanh')(decoder)\n",
        "  output_layer = Dense(x.shape[1], activation = 'linear')(decoder)\n",
        "  model = Model(inputs = input_layer, outputs = output_layer)\n",
        "  return model"
      ],
      "metadata": {
        "id": "XWSwLpTAsknp"
      },
      "execution_count": null,
      "outputs": []
    },
    {
      "cell_type": "markdown",
      "source": [
        "**Model compile**"
      ],
      "metadata": {
        "id": "I9eRL2JYxw86"
      }
    },
    {
      "cell_type": "markdown",
      "source": [
        "การ compile() ครั้งนี้ใช้ mean_squared_error วัดค่า Loss function ที่เกิดขึ้นระหว่างการ Training และใช้ optimizer = ‘adam’ สั่ง model.summary() หน้าตา Network ทั้งหมดได้ออกมาแบบนี้"
      ],
      "metadata": {
        "id": "D1ZkQKX1xvpJ"
      }
    },
    {
      "cell_type": "markdown",
      "source": [
        "Adam: Adaptive Moment Estimation เป็น optimizer ที่สามารถปรับ learning rates สำหรับพารามิเตอร์ในแต่ละครั้ง\n",
        "\n",
        "Adam เป็น optimizer ที่เป็นที่นิยมมากที่สุดเพราะรวมจุดเด่นของแต่ละ Optimizer แล้วลบจุดด้อยต่างๆออกไปทั้งการ decaying learning rate ของ adagrad ช่วยให้โมเดลไม่หยุดเรียนได้ อีกทั้งยังไวกว่า Gradient Descent และลดปัญหาการแกว่งของพารามิเตอร์ได้อีกด้วย"
      ],
      "metadata": {
        "id": "1v_j7sMsyeLi"
      }
    },
    {
      "cell_type": "code",
      "source": [
        "#Model compile\n",
        "model = autoencoder_model(x_train)\n",
        "model.compile(metrics = ['accuracy'], loss = 'mean_squared_error', optimizer = 'adam')\n",
        "model.summary()"
      ],
      "metadata": {
        "colab": {
          "base_uri": "https://localhost:8080/"
        },
        "id": "W-1pMME2x7gZ",
        "outputId": "7356e2f0-006a-48f0-e639-3655abb60244"
      },
      "execution_count": null,
      "outputs": [
        {
          "output_type": "stream",
          "name": "stdout",
          "text": [
            "Model: \"model\"\n",
            "_________________________________________________________________\n",
            " Layer (type)                Output Shape              Param #   \n",
            "=================================================================\n",
            " input_1 (InputLayer)        [(None, 29)]              0         \n",
            "                                                                 \n",
            " dense (Dense)               (None, 14)                420       \n",
            "                                                                 \n",
            " dense_1 (Dense)             (None, 7)                 105       \n",
            "                                                                 \n",
            " dense_2 (Dense)             (None, 7)                 56        \n",
            "                                                                 \n",
            " dense_3 (Dense)             (None, 14)                112       \n",
            "                                                                 \n",
            " dense_4 (Dense)             (None, 29)                435       \n",
            "                                                                 \n",
            "=================================================================\n",
            "Total params: 1128 (4.41 KB)\n",
            "Trainable params: 1128 (4.41 KB)\n",
            "Non-trainable params: 0 (0.00 Byte)\n",
            "_________________________________________________________________\n"
          ]
        }
      ]
    },
    {
      "cell_type": "markdown",
      "source": [
        "#Training model"
      ],
      "metadata": {
        "id": "GB7YXbStyvqY"
      }
    },
    {
      "cell_type": "markdown",
      "source": [
        "Train model ตาม epoch ที่เรากำหนดไว้ตั้งแต่ต้น ซึ่งเท่ากับ 200 Epochs สิ่งที่ต่างออกไปจากการ Train model ปกติก็คือเราใช้ x_train ทั้งคู่ (ซึ่งปกติต้องเป็นตัวแปร Y) เช่นเดียวกันกับ validation_data ก็ใช้ x_test ทั้งคู่เช่นกัน"
      ],
      "metadata": {
        "id": "rtEb6crQy9FZ"
      }
    },
    {
      "cell_type": "code",
      "execution_count": null,
      "metadata": {
        "id": "PGz_FqiBSnjO"
      },
      "outputs": [],
      "source": [
        "#Training model\n",
        "history = model.fit(x_train, x_train, epochs = epoch,\n",
        "                    batch_size = batch_size, shuffle = True,\n",
        "                    validation_data = (x_test, x_test), verbose = 0).history"
      ]
    },
    {
      "cell_type": "markdown",
      "source": [
        "#Save model"
      ],
      "metadata": {
        "id": "683Bjh7n1Slq"
      }
    },
    {
      "cell_type": "markdown",
      "source": [
        "เมื่อ Train ได้ Loss ตามที่เราต้องการแล้ว ก็ Save เก็บไว้เพื่อเรียกใช้งานในครั้งต่อ ๆ ไป"
      ],
      "metadata": {
        "id": "uqFbcC2-1Y2B"
      }
    },
    {
      "cell_type": "code",
      "source": [
        "#Save model\n",
        "model.save('fraud_detection.model')"
      ],
      "metadata": {
        "id": "ioCQwUjK1OxQ"
      },
      "execution_count": null,
      "outputs": []
    },
    {
      "cell_type": "code",
      "source": [
        "autoencoder = load_model('fraud_detection.model')"
      ],
      "metadata": {
        "id": "DBSUD6i1zi8x"
      },
      "execution_count": null,
      "outputs": []
    },
    {
      "cell_type": "markdown",
      "metadata": {
        "id": "Go2uY4SzNn_R"
      },
      "source": [
        "#**3 Evaluation Model**"
      ]
    },
    {
      "cell_type": "code",
      "source": [
        "predictions = autoencoder.predict(x_test)\n",
        "mse = np.mean(np.power(x_test - predictions, 2), axis=1)\n",
        "error_df = pd.DataFrame({'reconstruction_error': mse,\n",
        "                        'true_class': y_test})\n",
        "error_df.describe()"
      ],
      "metadata": {
        "colab": {
          "base_uri": "https://localhost:8080/",
          "height": 317
        },
        "id": "iPFIA2v7zF1E",
        "outputId": "142abf9c-d297-42fc-a80f-c85d24455612"
      },
      "execution_count": null,
      "outputs": [
        {
          "output_type": "stream",
          "name": "stdout",
          "text": [
            "1781/1781 [==============================] - 2s 1ms/step\n"
          ]
        },
        {
          "output_type": "execute_result",
          "data": {
            "text/plain": [
              "       reconstruction_error    true_class\n",
              "count          56962.000000  56962.000000\n",
              "mean               0.371825      0.001756\n",
              "std                5.172151      0.041863\n",
              "min                0.020065      0.000000\n",
              "25%                0.111829      0.000000\n",
              "50%                0.178315      0.000000\n",
              "75%                0.338672      0.000000\n",
              "max             1102.416423      1.000000"
            ],
            "text/html": [
              "\n",
              "  <div id=\"df-b0bfd580-d1af-435e-9ae5-4d09a48ecee2\" class=\"colab-df-container\">\n",
              "    <div>\n",
              "<style scoped>\n",
              "    .dataframe tbody tr th:only-of-type {\n",
              "        vertical-align: middle;\n",
              "    }\n",
              "\n",
              "    .dataframe tbody tr th {\n",
              "        vertical-align: top;\n",
              "    }\n",
              "\n",
              "    .dataframe thead th {\n",
              "        text-align: right;\n",
              "    }\n",
              "</style>\n",
              "<table border=\"1\" class=\"dataframe\">\n",
              "  <thead>\n",
              "    <tr style=\"text-align: right;\">\n",
              "      <th></th>\n",
              "      <th>reconstruction_error</th>\n",
              "      <th>true_class</th>\n",
              "    </tr>\n",
              "  </thead>\n",
              "  <tbody>\n",
              "    <tr>\n",
              "      <th>count</th>\n",
              "      <td>56962.000000</td>\n",
              "      <td>56962.000000</td>\n",
              "    </tr>\n",
              "    <tr>\n",
              "      <th>mean</th>\n",
              "      <td>0.371825</td>\n",
              "      <td>0.001756</td>\n",
              "    </tr>\n",
              "    <tr>\n",
              "      <th>std</th>\n",
              "      <td>5.172151</td>\n",
              "      <td>0.041863</td>\n",
              "    </tr>\n",
              "    <tr>\n",
              "      <th>min</th>\n",
              "      <td>0.020065</td>\n",
              "      <td>0.000000</td>\n",
              "    </tr>\n",
              "    <tr>\n",
              "      <th>25%</th>\n",
              "      <td>0.111829</td>\n",
              "      <td>0.000000</td>\n",
              "    </tr>\n",
              "    <tr>\n",
              "      <th>50%</th>\n",
              "      <td>0.178315</td>\n",
              "      <td>0.000000</td>\n",
              "    </tr>\n",
              "    <tr>\n",
              "      <th>75%</th>\n",
              "      <td>0.338672</td>\n",
              "      <td>0.000000</td>\n",
              "    </tr>\n",
              "    <tr>\n",
              "      <th>max</th>\n",
              "      <td>1102.416423</td>\n",
              "      <td>1.000000</td>\n",
              "    </tr>\n",
              "  </tbody>\n",
              "</table>\n",
              "</div>\n",
              "    <div class=\"colab-df-buttons\">\n",
              "\n",
              "  <div class=\"colab-df-container\">\n",
              "    <button class=\"colab-df-convert\" onclick=\"convertToInteractive('df-b0bfd580-d1af-435e-9ae5-4d09a48ecee2')\"\n",
              "            title=\"Convert this dataframe to an interactive table.\"\n",
              "            style=\"display:none;\">\n",
              "\n",
              "  <svg xmlns=\"http://www.w3.org/2000/svg\" height=\"24px\" viewBox=\"0 -960 960 960\">\n",
              "    <path d=\"M120-120v-720h720v720H120Zm60-500h600v-160H180v160Zm220 220h160v-160H400v160Zm0 220h160v-160H400v160ZM180-400h160v-160H180v160Zm440 0h160v-160H620v160ZM180-180h160v-160H180v160Zm440 0h160v-160H620v160Z\"/>\n",
              "  </svg>\n",
              "    </button>\n",
              "\n",
              "  <style>\n",
              "    .colab-df-container {\n",
              "      display:flex;\n",
              "      gap: 12px;\n",
              "    }\n",
              "\n",
              "    .colab-df-convert {\n",
              "      background-color: #E8F0FE;\n",
              "      border: none;\n",
              "      border-radius: 50%;\n",
              "      cursor: pointer;\n",
              "      display: none;\n",
              "      fill: #1967D2;\n",
              "      height: 32px;\n",
              "      padding: 0 0 0 0;\n",
              "      width: 32px;\n",
              "    }\n",
              "\n",
              "    .colab-df-convert:hover {\n",
              "      background-color: #E2EBFA;\n",
              "      box-shadow: 0px 1px 2px rgba(60, 64, 67, 0.3), 0px 1px 3px 1px rgba(60, 64, 67, 0.15);\n",
              "      fill: #174EA6;\n",
              "    }\n",
              "\n",
              "    .colab-df-buttons div {\n",
              "      margin-bottom: 4px;\n",
              "    }\n",
              "\n",
              "    [theme=dark] .colab-df-convert {\n",
              "      background-color: #3B4455;\n",
              "      fill: #D2E3FC;\n",
              "    }\n",
              "\n",
              "    [theme=dark] .colab-df-convert:hover {\n",
              "      background-color: #434B5C;\n",
              "      box-shadow: 0px 1px 3px 1px rgba(0, 0, 0, 0.15);\n",
              "      filter: drop-shadow(0px 1px 2px rgba(0, 0, 0, 0.3));\n",
              "      fill: #FFFFFF;\n",
              "    }\n",
              "  </style>\n",
              "\n",
              "    <script>\n",
              "      const buttonEl =\n",
              "        document.querySelector('#df-b0bfd580-d1af-435e-9ae5-4d09a48ecee2 button.colab-df-convert');\n",
              "      buttonEl.style.display =\n",
              "        google.colab.kernel.accessAllowed ? 'block' : 'none';\n",
              "\n",
              "      async function convertToInteractive(key) {\n",
              "        const element = document.querySelector('#df-b0bfd580-d1af-435e-9ae5-4d09a48ecee2');\n",
              "        const dataTable =\n",
              "          await google.colab.kernel.invokeFunction('convertToInteractive',\n",
              "                                                    [key], {});\n",
              "        if (!dataTable) return;\n",
              "\n",
              "        const docLinkHtml = 'Like what you see? Visit the ' +\n",
              "          '<a target=\"_blank\" href=https://colab.research.google.com/notebooks/data_table.ipynb>data table notebook</a>'\n",
              "          + ' to learn more about interactive tables.';\n",
              "        element.innerHTML = '';\n",
              "        dataTable['output_type'] = 'display_data';\n",
              "        await google.colab.output.renderOutput(dataTable, element);\n",
              "        const docLink = document.createElement('div');\n",
              "        docLink.innerHTML = docLinkHtml;\n",
              "        element.appendChild(docLink);\n",
              "      }\n",
              "    </script>\n",
              "  </div>\n",
              "\n",
              "\n",
              "<div id=\"df-2a2624b1-a6c3-4a03-8281-527000911aae\">\n",
              "  <button class=\"colab-df-quickchart\" onclick=\"quickchart('df-2a2624b1-a6c3-4a03-8281-527000911aae')\"\n",
              "            title=\"Suggest charts.\"\n",
              "            style=\"display:none;\">\n",
              "\n",
              "<svg xmlns=\"http://www.w3.org/2000/svg\" height=\"24px\"viewBox=\"0 0 24 24\"\n",
              "     width=\"24px\">\n",
              "    <g>\n",
              "        <path d=\"M19 3H5c-1.1 0-2 .9-2 2v14c0 1.1.9 2 2 2h14c1.1 0 2-.9 2-2V5c0-1.1-.9-2-2-2zM9 17H7v-7h2v7zm4 0h-2V7h2v10zm4 0h-2v-4h2v4z\"/>\n",
              "    </g>\n",
              "</svg>\n",
              "  </button>\n",
              "\n",
              "<style>\n",
              "  .colab-df-quickchart {\n",
              "      --bg-color: #E8F0FE;\n",
              "      --fill-color: #1967D2;\n",
              "      --hover-bg-color: #E2EBFA;\n",
              "      --hover-fill-color: #174EA6;\n",
              "      --disabled-fill-color: #AAA;\n",
              "      --disabled-bg-color: #DDD;\n",
              "  }\n",
              "\n",
              "  [theme=dark] .colab-df-quickchart {\n",
              "      --bg-color: #3B4455;\n",
              "      --fill-color: #D2E3FC;\n",
              "      --hover-bg-color: #434B5C;\n",
              "      --hover-fill-color: #FFFFFF;\n",
              "      --disabled-bg-color: #3B4455;\n",
              "      --disabled-fill-color: #666;\n",
              "  }\n",
              "\n",
              "  .colab-df-quickchart {\n",
              "    background-color: var(--bg-color);\n",
              "    border: none;\n",
              "    border-radius: 50%;\n",
              "    cursor: pointer;\n",
              "    display: none;\n",
              "    fill: var(--fill-color);\n",
              "    height: 32px;\n",
              "    padding: 0;\n",
              "    width: 32px;\n",
              "  }\n",
              "\n",
              "  .colab-df-quickchart:hover {\n",
              "    background-color: var(--hover-bg-color);\n",
              "    box-shadow: 0 1px 2px rgba(60, 64, 67, 0.3), 0 1px 3px 1px rgba(60, 64, 67, 0.15);\n",
              "    fill: var(--button-hover-fill-color);\n",
              "  }\n",
              "\n",
              "  .colab-df-quickchart-complete:disabled,\n",
              "  .colab-df-quickchart-complete:disabled:hover {\n",
              "    background-color: var(--disabled-bg-color);\n",
              "    fill: var(--disabled-fill-color);\n",
              "    box-shadow: none;\n",
              "  }\n",
              "\n",
              "  .colab-df-spinner {\n",
              "    border: 2px solid var(--fill-color);\n",
              "    border-color: transparent;\n",
              "    border-bottom-color: var(--fill-color);\n",
              "    animation:\n",
              "      spin 1s steps(1) infinite;\n",
              "  }\n",
              "\n",
              "  @keyframes spin {\n",
              "    0% {\n",
              "      border-color: transparent;\n",
              "      border-bottom-color: var(--fill-color);\n",
              "      border-left-color: var(--fill-color);\n",
              "    }\n",
              "    20% {\n",
              "      border-color: transparent;\n",
              "      border-left-color: var(--fill-color);\n",
              "      border-top-color: var(--fill-color);\n",
              "    }\n",
              "    30% {\n",
              "      border-color: transparent;\n",
              "      border-left-color: var(--fill-color);\n",
              "      border-top-color: var(--fill-color);\n",
              "      border-right-color: var(--fill-color);\n",
              "    }\n",
              "    40% {\n",
              "      border-color: transparent;\n",
              "      border-right-color: var(--fill-color);\n",
              "      border-top-color: var(--fill-color);\n",
              "    }\n",
              "    60% {\n",
              "      border-color: transparent;\n",
              "      border-right-color: var(--fill-color);\n",
              "    }\n",
              "    80% {\n",
              "      border-color: transparent;\n",
              "      border-right-color: var(--fill-color);\n",
              "      border-bottom-color: var(--fill-color);\n",
              "    }\n",
              "    90% {\n",
              "      border-color: transparent;\n",
              "      border-bottom-color: var(--fill-color);\n",
              "    }\n",
              "  }\n",
              "</style>\n",
              "\n",
              "  <script>\n",
              "    async function quickchart(key) {\n",
              "      const quickchartButtonEl =\n",
              "        document.querySelector('#' + key + ' button');\n",
              "      quickchartButtonEl.disabled = true;  // To prevent multiple clicks.\n",
              "      quickchartButtonEl.classList.add('colab-df-spinner');\n",
              "      try {\n",
              "        const charts = await google.colab.kernel.invokeFunction(\n",
              "            'suggestCharts', [key], {});\n",
              "      } catch (error) {\n",
              "        console.error('Error during call to suggestCharts:', error);\n",
              "      }\n",
              "      quickchartButtonEl.classList.remove('colab-df-spinner');\n",
              "      quickchartButtonEl.classList.add('colab-df-quickchart-complete');\n",
              "    }\n",
              "    (() => {\n",
              "      let quickchartButtonEl =\n",
              "        document.querySelector('#df-2a2624b1-a6c3-4a03-8281-527000911aae button');\n",
              "      quickchartButtonEl.style.display =\n",
              "        google.colab.kernel.accessAllowed ? 'block' : 'none';\n",
              "    })();\n",
              "  </script>\n",
              "</div>\n",
              "    </div>\n",
              "  </div>\n"
            ]
          },
          "metadata": {},
          "execution_count": 26
        }
      ]
    },
    {
      "cell_type": "markdown",
      "source": [
        "Plot loss function ออกมาเพื่อดูว่า Model training ออกมาว่าเป็นอย่างไร"
      ],
      "metadata": {
        "id": "wJc3rZ8E1kxY"
      }
    },
    {
      "cell_type": "code",
      "execution_count": null,
      "metadata": {
        "id": "eWuRq1PeNXpp",
        "colab": {
          "base_uri": "https://localhost:8080/",
          "height": 581
        },
        "outputId": "2869de8e-daab-4452-a448-5ecf96286cde"
      },
      "outputs": [
        {
          "output_type": "execute_result",
          "data": {
            "text/plain": [
              "<matplotlib.legend.Legend at 0x7e8ce122e500>"
            ]
          },
          "metadata": {},
          "execution_count": 27
        },
        {
          "output_type": "display_data",
          "data": {
            "text/plain": [
              "<Figure size 1000x600 with 1 Axes>"
            ],
            "image/png": "[encoded data removed]"
          },
          "metadata": {}
        }
      ],
      "source": [
        "#Model Evaluate\n",
        "plt.figure(figsize = (10,6))\n",
        "ax = plt.axes()\n",
        "ax.set_facecolor('#dfe3e6')\n",
        "plt.grid(color = 'w')\n",
        "plt.plot(history['loss'])\n",
        "plt.plot(history['val_loss'])\n",
        "plt.title('Loss training process')\n",
        "plt.ylabel('Loss')\n",
        "plt.xlabel('Steps')\n",
        "plt.legend(['Training dataset', 'Testing dataset'], loc = 'upper right')"
      ]
    },
    {
      "cell_type": "markdown",
      "source": [
        "ค่า MSE ที่ออกมาอยู่ราว ๆ 30% สำหรับ Training set และประมาณ 36% ของ Testing set อาจยังดูเหมือนเยอะ สามารถลองปรับ Network เพิ่มเติมได้"
      ],
      "metadata": {
        "id": "Y_7LWzIc2BHI"
      }
    },
    {
      "cell_type": "markdown",
      "metadata": {
        "id": "7tIFZNqFN2VG"
      },
      "source": [
        "#**Reconstruction error**"
      ]
    },
    {
      "cell_type": "markdown",
      "source": [
        "ส่วนสุดท้ายสำหรับโมเดลครั้งนี้คือ Reconstruction error ซึ่งค่า Error ที่ใช้ก็คือ MSE โดยใช้ Model ที่สร้างขึ้นมาไปทำการ Predict ข้อมูลที่ Model ไม่เคยเห็น (Testing data) ซึ่งเป็นข้อมูลจริง แล้วเราหา Error ที่เกิดขึ้นด้วย MSE เมื่อได้ค่าออกมาแล้ว เราก็สร้างเป็น Array เก็บค่าจริงและค่า Error เอาไว้"
      ],
      "metadata": {
        "id": "G5_f5lRo2dbI"
      }
    },
    {
      "cell_type": "code",
      "execution_count": null,
      "metadata": {
        "id": "L_zLtpYPN58p",
        "colab": {
          "base_uri": "https://localhost:8080/"
        },
        "outputId": "df0141c9-bebd-4889-f124-db5d655162f9"
      },
      "outputs": [
        {
          "output_type": "stream",
          "name": "stdout",
          "text": [
            "1781/1781 [==============================] - 2s 1ms/step\n",
            "[[0.         0.12169779]\n",
            " [0.         0.26948903]\n",
            " [0.         0.67661741]\n",
            " ...\n",
            " [0.         0.13665238]\n",
            " [0.         0.11006538]\n",
            " [0.         0.22428201]]\n"
          ]
        }
      ],
      "source": [
        "#Reconstruction error\n",
        "predicts = model.predict(x_test)\n",
        "re_error = ((x_test - predicts) ** 2).mean(axis = 1)\n",
        "re_error = np.stack((y_test, re_error), axis = -1)\n",
        "print(re_error)"
      ]
    },
    {
      "cell_type": "markdown",
      "source": [
        "การหาค่า MSE เราไม่ได้หาค่าจากข้อมูลทั้งหมด (ถ้าดูจากโค้ดด้านบน) เราทำการหาผลต่างระหว่างค่า 2 ค่า ยกกำลัง 2 เพื่อให้ได้เลขที่เป็นบวก แล้วหารด้วย n ซึ่งเท่ากับ 2 แทนด้วยค่าจริงและค่า Predicted จากโมเดล ดังนั้นเราจึงไม่ได้สามารถใช้ Library สำเร็จรูปจาก scikit-learn ได้"
      ],
      "metadata": {
        "id": "gAYwLIl33Nz3"
      }
    },
    {
      "cell_type": "code",
      "source": [
        "fig = plt.figure()\n",
        "ax = fig.add_subplot(111)\n",
        "normal_error_df = error_df[(error_df['true_class']== 0) & (error_df['reconstruction_error'] < 10)]\n",
        "_ = ax.hist(normal_error_df.reconstruction_error.values, bins=10)\n",
        "plt.title('normal_error_df')"
      ],
      "metadata": {
        "colab": {
          "base_uri": "https://localhost:8080/",
          "height": 469
        },
        "id": "2WMu3XPY0Z6J",
        "outputId": "f06efe96-377f-43a9-aeeb-e6fa95f2d150"
      },
      "execution_count": null,
      "outputs": [
        {
          "output_type": "execute_result",
          "data": {
            "text/plain": [
              "Text(0.5, 1.0, 'normal_error_df')"
            ]
          },
          "metadata": {},
          "execution_count": 29
        },
        {
          "output_type": "display_data",
          "data": {
            "text/plain": [
              "<Figure size 640x480 with 1 Axes>"
            ],
            "image/png": "[encoded data removed]"
          },
          "metadata": {}
        }
      ]
    },
    {
      "cell_type": "code",
      "source": [
        "fig = plt.figure()\n",
        "ax = fig.add_subplot(111)\n",
        "fraud_error_df = error_df[error_df['true_class'] == 1]\n",
        "_ = ax.hist(fraud_error_df.reconstruction_error.values, bins=10)\n",
        "plt.title('fraud_error_df')"
      ],
      "metadata": {
        "colab": {
          "base_uri": "https://localhost:8080/",
          "height": 469
        },
        "id": "kvFkSj0t0eVp",
        "outputId": "14f28d24-993a-4ffc-e2dd-f218ddf4eedc"
      },
      "execution_count": null,
      "outputs": [
        {
          "output_type": "execute_result",
          "data": {
            "text/plain": [
              "Text(0.5, 1.0, 'fraud_error_df')"
            ]
          },
          "metadata": {},
          "execution_count": 30
        },
        {
          "output_type": "display_data",
          "data": {
            "text/plain": [
              "<Figure size 640x480 with 1 Axes>"
            ],
            "image/png": "[encoded data removed]"
          },
          "metadata": {}
        }
      ]
    },
    {
      "cell_type": "markdown",
      "metadata": {
        "id": "yGuN1PgOOAQL"
      },
      "source": [
        "#**Model performance**"
      ]
    },
    {
      "cell_type": "markdown",
      "source": [
        "**ROC Curve**"
      ],
      "metadata": {
        "id": "qySr51tz39D3"
      }
    },
    {
      "cell_type": "markdown",
      "source": [],
      "metadata": {
        "id": "pJPH4_YYefKp"
      }
    },
    {
      "cell_type": "markdown",
      "source": [
        "ROC เป็นค่าทางสถิติค่าหนึ่ง ที่สามารถบอกความแม่นยำของในการแบ่งแยกประเภทใด ๆ ตามแต่ที่สร้างโมเดลขึ้นมา ดังนั้งจึงขอ Plot ROC Curve เพื่อเป็น Reference ซึ่งกราฟที่ออกมาถือเป็นไปในทางที่ดี เพราะเส้นที่เกิดจากโมเดลเกือบเข้าไปใกล้ Perfect curve (100%)"
      ],
      "metadata": {
        "id": "gRf7imiW3em4"
      }
    },
    {
      "cell_type": "markdown",
      "source": [
        "AUC ย่อมาจาก “Area Under <ROC> Curve” เป็นอีกหนึ่ง metric ยอดนิยมที่ใช้กันแทบทุกงานเลย AUC มีค่าอยู่ระหว่าง 0-1 ยิ่งเข้าใกล้ 1 แปลว่าโมเดลในภาพรวมสามารถทำนาย y ได้ดีมาก\n",
        "\n",
        "AUC = 0.50 ไม่ต่างอะไรกับการเดาสุ่มเลย\n",
        "\n",
        "AUC > 0.70 คือเกณฑ์มาตรฐานสำหรับโมเดลส่วนใหญ่\n",
        "\n",
        "AUC > 0.80 โมเดลทำงานได้ดี\n",
        "\n",
        "AUC > 0.90 โมเดลทำงานได้ดีมาก"
      ],
      "metadata": {
        "id": "H2VNzXmAebvJ"
      }
    },
    {
      "cell_type": "code",
      "execution_count": null,
      "metadata": {
        "id": "OAjzKHsIOGEh",
        "colab": {
          "base_uri": "https://localhost:8080/",
          "height": 581
        },
        "outputId": "37be3625-af6f-4831-a8d1-53a1e4f8fb43"
      },
      "outputs": [
        {
          "output_type": "execute_result",
          "data": {
            "text/plain": [
              "Text(0.5, 0, 'False positive')"
            ]
          },
          "metadata": {},
          "execution_count": 31
        },
        {
          "output_type": "display_data",
          "data": {
            "text/plain": [
              "<Figure size 1000x600 with 1 Axes>"
            ],
            "image/png": "[encoded data removed]"
          },
          "metadata": {}
        }
      ],
      "source": [
        "#ROC Curve\n",
        "from sklearn.metrics import confusion_matrix, auc, roc_curve\n",
        "from sklearn import metrics\n",
        "\n",
        "fpr, tpr, thresholds = roc_curve(error_df.true_class, error_df.reconstruction_error)\n",
        "roc_auc = auc(fpr, tpr)\n",
        "\n",
        "#Plotting ROC Curve\n",
        "plt.figure(figsize = (10,6))\n",
        "ax = plt.axes()\n",
        "ax.set_facecolor('#dfe3e6')\n",
        "plt.grid(color = 'w')\n",
        "plt.plot(fpr, tpr, label = 'AUC = %0.2f'% roc_auc)\n",
        "plt.legend(loc='lower right')\n",
        "plt.plot([0,1],[0,1],'r--')\n",
        "plt.title('ROC Curve')\n",
        "plt.ylabel('True positive')\n",
        "plt.xlabel('False positive')"
      ]
    },
    {
      "cell_type": "code",
      "source": [
        "from sklearn.metrics import (confusion_matrix, precision_recall_curve, auc,\n",
        "                             roc_curve, recall_score, classification_report, f1_score,\n",
        "                             precision_recall_fscore_support)\n",
        "\n",
        "precision, recall, th = precision_recall_curve(error_df.true_class, error_df.reconstruction_error)\n",
        "plt.plot(recall, precision, 'b', label='Precision-Recall curve')\n",
        "plt.title('Recall vs Precision')\n",
        "plt.xlabel('Recall')\n",
        "plt.ylabel('Precision')\n",
        "plt.show()"
      ],
      "metadata": {
        "colab": {
          "base_uri": "https://localhost:8080/",
          "height": 472
        },
        "id": "Z0HbmPA3vzlb",
        "outputId": "b94357f9-4234-47cf-ce65-61d518ac5343"
      },
      "execution_count": null,
      "outputs": [
        {
          "output_type": "display_data",
          "data": {
            "text/plain": [
              "<Figure size 640x480 with 1 Axes>"
            ],
            "image/png": "[encoded data removed]"
          },
          "metadata": {}
        }
      ]
    },
    {
      "cell_type": "markdown",
      "source": [
        "**Confusion matrix**"
      ],
      "metadata": {
        "id": "IQT3cmjm36EH"
      }
    },
    {
      "cell_type": "markdown",
      "source": [
        "การใช้งานโมเดลเพื่อแบ่งแยกเคสที่เป็นทุจริตออกจากเคสปกติ วิธีการคือ ต้องกำหนดค่าความเชื่อมั่นของขึ้นมาก่อน ซึ่งจริง ๆ เป็นตัวเลขอะไรก็ได้ ที่กำลังบอกโมเดลว่าถ้ามีค่า Error ที่มากกว่าค่าที่กำหนด จะถูกมองว่าเป็น Fraud ซึ่งก็ตรงตามหลักการที่โมเดลถูกสร้างขึ้นมา ที่บอกว่าอะไรก็ตามที่ Error สูง แสดงว่า Model ไม่ได้สามารถ Encode และ Decode กลับเป็นเหมือนเดิมได้ ดังนั้นจึงถือว่าเป็น Fraud\n",
        "\n"
      ],
      "metadata": {
        "id": "tvIvXqNO31HP"
      }
    },
    {
      "cell_type": "markdown",
      "source": [
        "![1_GPrgyxOQDoKwTW8_AreUjQ.webp](data:image/webp;base64,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)"
      ],
      "metadata": {
        "id": "DzAOF8iSZNan"
      }
    },
    {
      "cell_type": "markdown",
      "source": [
        "Fraud = จริง , Norml = ไม่จริง\n",
        "\n",
        "True Positive (TP)= สิ่งที่ทำนาย ตรงกับสิ่งที่เกิดขึ้นจริง ในกรณี ทำนายว่าจริง และสิ่งที่เกิดขึ้น ก็คือ จริง\n",
        "\n",
        "True Negative (TN)= สิ่งที่ทำนายตรงกับสิ่งที่เกิดขึ้น ในกรณี ทำนายว่า ไม่จริง และสิ่งที่เกิดขึ้น ก็คือ ไม่จริง\n",
        "\n",
        "False Positive (FP)= สิ่งที่ทำนายไม่ตรงกับสิ่งที่เกิดขึ้น คือทำนายว่า จริง แต่สิ่งที่เกิดขึ้น คือ ไม่จริง\n",
        "\n",
        "False Negative (FN)= สิ่งที่ทำนายไม่ตรงกับที่เกิดขึ้นจริง คือทำนายว่าไม่จริง แต่สิ่งที่เกิดขึ้น คือ จริง"
      ],
      "metadata": {
        "id": "aHzb_0UQakcT"
      }
    },
    {
      "cell_type": "code",
      "execution_count": null,
      "metadata": {
        "id": "HTz9_4oYOKYz",
        "colab": {
          "base_uri": "https://localhost:8080/",
          "height": 427
        },
        "outputId": "6dc873e1-3479-46fc-b717-d5823b24c6e9"
      },
      "outputs": [
        {
          "output_type": "execute_result",
          "data": {
            "text/plain": [
              "Text(0.5, 14.722222222222216, 'Predicted class')"
            ]
          },
          "metadata": {},
          "execution_count": 33
        },
        {
          "output_type": "display_data",
          "data": {
            "text/plain": [
              "<Figure size 800x400 with 2 Axes>"
            ],
            "image/png": "[encoded data removed]"
          },
          "metadata": {}
        }
      ],
      "source": [
        "#Confusion matrix\n",
        "thres = 2.5\n",
        "y_predict = [1 if e > thres else 0 for e in re_error[:,1]]\n",
        "matrix = confusion_matrix(error_df.true_class, y_predict)\n",
        "LABELS = [\"Normal\", \"Fraud\"]\n",
        "#Plotting confusion matrix\n",
        "plt.figure(figsize = (8, 4))\n",
        "sns.heatmap(matrix, xticklabels=LABELS, yticklabels=LABELS, annot = True, fmt = 'd', cmap = 'Blues');\n",
        "plt.title(\"Confusion matrix\")\n",
        "plt.ylabel('True class')\n",
        "plt.xlabel('Predicted class')"
      ]
    },
    {
      "cell_type": "markdown",
      "source": [
        "จาก Confusion matrix เห็นได้ว่าที่ thres= 2.5 Model บอกว่าเคสปกติถูกมองว่าเป็น Fraud ทั้งหมด 281 รายการ  (FP) และเคสที่เป็น Fraud อยู่แล้ว กลับถูกมองว่าเป็นเคสปกติทั้งหมด 14 รายการ  (FN) สิ่งที่พูดมาทั้งหมดนี้คือ Error ที่เกิดขึ้นจากโมเดล ดังนั้นเมื่อเราขยับ Threshold ให้เพิ่มสูงขึ้น (Relax assumption) เคสปกติที่ถูกมองว่าเป็น Fraud ก็จะมีจำนวนที่ลดลง เป็นต้น"
      ],
      "metadata": {
        "id": "tzqNb0Nx4K5P"
      }
    },
    {
      "cell_type": "code",
      "source": [
        "from sklearn.metrics import classification_report\n",
        "print(classification_report(error_df.true_class, y_predict))\n"
      ],
      "metadata": {
        "colab": {
          "base_uri": "https://localhost:8080/"
        },
        "id": "ihE2-7becPzd",
        "outputId": "77196bff-ab89-4332-ad13-2e5afae32656"
      },
      "execution_count": null,
      "outputs": [
        {
          "output_type": "stream",
          "name": "stdout",
          "text": [
            "              precision    recall  f1-score   support\n",
            "\n",
            "           0       1.00      0.99      1.00     56862\n",
            "           1       0.23      0.85      0.36       100\n",
            "\n",
            "    accuracy                           0.99     56962\n",
            "   macro avg       0.61      0.92      0.68     56962\n",
            "weighted avg       1.00      0.99      1.00     56962\n",
            "\n"
          ]
        }
      ]
    },
    {
      "cell_type": "markdown",
      "source": [
        "**Prediction**"
      ],
      "metadata": {
        "id": "_yXJ06Rz4mnu"
      }
    },
    {
      "cell_type": "markdown",
      "source": [
        "ลอง Plot scatter ออกมาเพื่อให้เห็นภาพง่ายกว่าเดิม สามารถดูได้ว่า Observation ใด ๆ ที่อยู่เกินเส้นสีแดงที่ thres = 2.5 จะถูกนับว่าเป็น Fraud ทั้งหมด"
      ],
      "metadata": {
        "id": "n6c9MZ4h4gnn"
      }
    },
    {
      "cell_type": "code",
      "execution_count": null,
      "metadata": {
        "id": "XmKSHIlIOONh",
        "colab": {
          "base_uri": "https://localhost:8080/",
          "height": 410
        },
        "outputId": "bfeb1fca-93bd-492d-9973-9537772f419a"
      },
      "outputs": [
        {
          "output_type": "display_data",
          "data": {
            "text/plain": [
              "<Figure size 800x400 with 1 Axes>"
            ],
            "image/png": "[encoded data removed]"
          },
          "metadata": {}
        }
      ],
      "source": [
        "#Prediction\n",
        "groups = error_df.groupby('true_class')\n",
        "\n",
        "fig, ax = plt.subplots(figsize=(8, 4))\n",
        "\n",
        "for name, group in groups:\n",
        "    ax.plot(group.index, group.reconstruction_error, marker='o', ms=3.5, linestyle='',\n",
        "            label= \"Fraud\" if name == 1 else \"Normal\")\n",
        "ax.hlines(thres, ax.get_xlim()[0], ax.get_xlim()[1], colors=\"r\", zorder=100, label='Threshold')\n",
        "ax.legend()\n",
        "plt.title(\"Reconstruction error for different classes\")\n",
        "plt.ylabel(\"Reconstruction error\")\n",
        "plt.xlabel(\"Data point index\")\n",
        "plt.show();\n"
      ]
    },
    {
      "cell_type": "code",
      "source": [
        "predictions = np.array(y_predict)\n",
        "compare = pd.DataFrame(predictions, columns=['Prediction'])\n",
        "y_compare = pd.concat([error_df, compare], axis =1)\n",
        "y_compare.head()"
      ],
      "metadata": {
        "colab": {
          "base_uri": "https://localhost:8080/",
          "height": 206
        },
        "id": "Lomg_SjOHxlp",
        "outputId": "5a96a753-bb6f-461f-d81d-06db065d5e05"
      },
      "execution_count": null,
      "outputs": [
        {
          "output_type": "execute_result",
          "data": {
            "text/plain": [
              "   reconstruction_error  true_class  Prediction\n",
              "0              0.121698           0           0\n",
              "1              0.269489           0           0\n",
              "2              0.676617           0           0\n",
              "3              0.072916           0           0\n",
              "4              0.371355           0           0"
            ],
            "text/html": [
              "\n",
              "  <div id=\"df-b8046564-6595-4473-9cd9-efbc87d74aed\" class=\"colab-df-container\">\n",
              "    <div>\n",
              "<style scoped>\n",
              "    .dataframe tbody tr th:only-of-type {\n",
              "        vertical-align: middle;\n",
              "    }\n",
              "\n",
              "    .dataframe tbody tr th {\n",
              "        vertical-align: top;\n",
              "    }\n",
              "\n",
              "    .dataframe thead th {\n",
              "        text-align: right;\n",
              "    }\n",
              "</style>\n",
              "<table border=\"1\" class=\"dataframe\">\n",
              "  <thead>\n",
              "    <tr style=\"text-align: right;\">\n",
              "      <th></th>\n",
              "      <th>reconstruction_error</th>\n",
              "      <th>true_class</th>\n",
              "      <th>Prediction</th>\n",
              "    </tr>\n",
              "  </thead>\n",
              "  <tbody>\n",
              "    <tr>\n",
              "      <th>0</th>\n",
              "      <td>0.121698</td>\n",
              "      <td>0</td>\n",
              "      <td>0</td>\n",
              "    </tr>\n",
              "    <tr>\n",
              "      <th>1</th>\n",
              "      <td>0.269489</td>\n",
              "      <td>0</td>\n",
              "      <td>0</td>\n",
              "    </tr>\n",
              "    <tr>\n",
              "      <th>2</th>\n",
              "      <td>0.676617</td>\n",
              "      <td>0</td>\n",
              "      <td>0</td>\n",
              "    </tr>\n",
              "    <tr>\n",
              "      <th>3</th>\n",
              "      <td>0.072916</td>\n",
              "      <td>0</td>\n",
              "      <td>0</td>\n",
              "    </tr>\n",
              "    <tr>\n",
              "      <th>4</th>\n",
              "      <td>0.371355</td>\n",
              "      <td>0</td>\n",
              "      <td>0</td>\n",
              "    </tr>\n",
              "  </tbody>\n",
              "</table>\n",
              "</div>\n",
              "    <div class=\"colab-df-buttons\">\n",
              "\n",
              "  <div class=\"colab-df-container\">\n",
              "    <button class=\"colab-df-convert\" onclick=\"convertToInteractive('df-b8046564-6595-4473-9cd9-efbc87d74aed')\"\n",
              "            title=\"Convert this dataframe to an interactive table.\"\n",
              "            style=\"display:none;\">\n",
              "\n",
              "  <svg xmlns=\"http://www.w3.org/2000/svg\" height=\"24px\" viewBox=\"0 -960 960 960\">\n",
              "    <path d=\"M120-120v-720h720v720H120Zm60-500h600v-160H180v160Zm220 220h160v-160H400v160Zm0 220h160v-160H400v160ZM180-400h160v-160H180v160Zm440 0h160v-160H620v160ZM180-180h160v-160H180v160Zm440 0h160v-160H620v160Z\"/>\n",
              "  </svg>\n",
              "    </button>\n",
              "\n",
              "  <style>\n",
              "    .colab-df-container {\n",
              "      display:flex;\n",
              "      gap: 12px;\n",
              "    }\n",
              "\n",
              "    .colab-df-convert {\n",
              "      background-color: #E8F0FE;\n",
              "      border: none;\n",
              "      border-radius: 50%;\n",
              "      cursor: pointer;\n",
              "      display: none;\n",
              "      fill: #1967D2;\n",
              "      height: 32px;\n",
              "      padding: 0 0 0 0;\n",
              "      width: 32px;\n",
              "    }\n",
              "\n",
              "    .colab-df-convert:hover {\n",
              "      background-color: #E2EBFA;\n",
              "      box-shadow: 0px 1px 2px rgba(60, 64, 67, 0.3), 0px 1px 3px 1px rgba(60, 64, 67, 0.15);\n",
              "      fill: #174EA6;\n",
              "    }\n",
              "\n",
              "    .colab-df-buttons div {\n",
              "      margin-bottom: 4px;\n",
              "    }\n",
              "\n",
              "    [theme=dark] .colab-df-convert {\n",
              "      background-color: #3B4455;\n",
              "      fill: #D2E3FC;\n",
              "    }\n",
              "\n",
              "    [theme=dark] .colab-df-convert:hover {\n",
              "      background-color: #434B5C;\n",
              "      box-shadow: 0px 1px 3px 1px rgba(0, 0, 0, 0.15);\n",
              "      filter: drop-shadow(0px 1px 2px rgba(0, 0, 0, 0.3));\n",
              "      fill: #FFFFFF;\n",
              "    }\n",
              "  </style>\n",
              "\n",
              "    <script>\n",
              "      const buttonEl =\n",
              "        document.querySelector('#df-b8046564-6595-4473-9cd9-efbc87d74aed button.colab-df-convert');\n",
              "      buttonEl.style.display =\n",
              "        google.colab.kernel.accessAllowed ? 'block' : 'none';\n",
              "\n",
              "      async function convertToInteractive(key) {\n",
              "        const element = document.querySelector('#df-b8046564-6595-4473-9cd9-efbc87d74aed');\n",
              "        const dataTable =\n",
              "          await google.colab.kernel.invokeFunction('convertToInteractive',\n",
              "                                                    [key], {});\n",
              "        if (!dataTable) return;\n",
              "\n",
              "        const docLinkHtml = 'Like what you see? Visit the ' +\n",
              "          '<a target=\"_blank\" href=https://colab.research.google.com/notebooks/data_table.ipynb>data table notebook</a>'\n",
              "          + ' to learn more about interactive tables.';\n",
              "        element.innerHTML = '';\n",
              "        dataTable['output_type'] = 'display_data';\n",
              "        await google.colab.output.renderOutput(dataTable, element);\n",
              "        const docLink = document.createElement('div');\n",
              "        docLink.innerHTML = docLinkHtml;\n",
              "        element.appendChild(docLink);\n",
              "      }\n",
              "    </script>\n",
              "  </div>\n",
              "\n",
              "\n",
              "<div id=\"df-48971f0b-c840-4713-8b6a-3443b1fadd28\">\n",
              "  <button class=\"colab-df-quickchart\" onclick=\"quickchart('df-48971f0b-c840-4713-8b6a-3443b1fadd28')\"\n",
              "            title=\"Suggest charts.\"\n",
              "            style=\"display:none;\">\n",
              "\n",
              "<svg xmlns=\"http://www.w3.org/2000/svg\" height=\"24px\"viewBox=\"0 0 24 24\"\n",
              "     width=\"24px\">\n",
              "    <g>\n",
              "        <path d=\"M19 3H5c-1.1 0-2 .9-2 2v14c0 1.1.9 2 2 2h14c1.1 0 2-.9 2-2V5c0-1.1-.9-2-2-2zM9 17H7v-7h2v7zm4 0h-2V7h2v10zm4 0h-2v-4h2v4z\"/>\n",
              "    </g>\n",
              "</svg>\n",
              "  </button>\n",
              "\n",
              "<style>\n",
              "  .colab-df-quickchart {\n",
              "      --bg-color: #E8F0FE;\n",
              "      --fill-color: #1967D2;\n",
              "      --hover-bg-color: #E2EBFA;\n",
              "      --hover-fill-color: #174EA6;\n",
              "      --disabled-fill-color: #AAA;\n",
              "      --disabled-bg-color: #DDD;\n",
              "  }\n",
              "\n",
              "  [theme=dark] .colab-df-quickchart {\n",
              "      --bg-color: #3B4455;\n",
              "      --fill-color: #D2E3FC;\n",
              "      --hover-bg-color: #434B5C;\n",
              "      --hover-fill-color: #FFFFFF;\n",
              "      --disabled-bg-color: #3B4455;\n",
              "      --disabled-fill-color: #666;\n",
              "  }\n",
              "\n",
              "  .colab-df-quickchart {\n",
              "    background-color: var(--bg-color);\n",
              "    border: none;\n",
              "    border-radius: 50%;\n",
              "    cursor: pointer;\n",
              "    display: none;\n",
              "    fill: var(--fill-color);\n",
              "    height: 32px;\n",
              "    padding: 0;\n",
              "    width: 32px;\n",
              "  }\n",
              "\n",
              "  .colab-df-quickchart:hover {\n",
              "    background-color: var(--hover-bg-color);\n",
              "    box-shadow: 0 1px 2px rgba(60, 64, 67, 0.3), 0 1px 3px 1px rgba(60, 64, 67, 0.15);\n",
              "    fill: var(--button-hover-fill-color);\n",
              "  }\n",
              "\n",
              "  .colab-df-quickchart-complete:disabled,\n",
              "  .colab-df-quickchart-complete:disabled:hover {\n",
              "    background-color: var(--disabled-bg-color);\n",
              "    fill: var(--disabled-fill-color);\n",
              "    box-shadow: none;\n",
              "  }\n",
              "\n",
              "  .colab-df-spinner {\n",
              "    border: 2px solid var(--fill-color);\n",
              "    border-color: transparent;\n",
              "    border-bottom-color: var(--fill-color);\n",
              "    animation:\n",
              "      spin 1s steps(1) infinite;\n",
              "  }\n",
              "\n",
              "  @keyframes spin {\n",
              "    0% {\n",
              "      border-color: transparent;\n",
              "      border-bottom-color: var(--fill-color);\n",
              "      border-left-color: var(--fill-color);\n",
              "    }\n",
              "    20% {\n",
              "      border-color: transparent;\n",
              "      border-left-color: var(--fill-color);\n",
              "      border-top-color: var(--fill-color);\n",
              "    }\n",
              "    30% {\n",
              "      border-color: transparent;\n",
              "      border-left-color: var(--fill-color);\n",
              "      border-top-color: var(--fill-color);\n",
              "      border-right-color: var(--fill-color);\n",
              "    }\n",
              "    40% {\n",
              "      border-color: transparent;\n",
              "      border-right-color: var(--fill-color);\n",
              "      border-top-color: var(--fill-color);\n",
              "    }\n",
              "    60% {\n",
              "      border-color: transparent;\n",
              "      border-right-color: var(--fill-color);\n",
              "    }\n",
              "    80% {\n",
              "      border-color: transparent;\n",
              "      border-right-color: var(--fill-color);\n",
              "      border-bottom-color: var(--fill-color);\n",
              "    }\n",
              "    90% {\n",
              "      border-color: transparent;\n",
              "      border-bottom-color: var(--fill-color);\n",
              "    }\n",
              "  }\n",
              "</style>\n",
              "\n",
              "  <script>\n",
              "    async function quickchart(key) {\n",
              "      const quickchartButtonEl =\n",
              "        document.querySelector('#' + key + ' button');\n",
              "      quickchartButtonEl.disabled = true;  // To prevent multiple clicks.\n",
              "      quickchartButtonEl.classList.add('colab-df-spinner');\n",
              "      try {\n",
              "        const charts = await google.colab.kernel.invokeFunction(\n",
              "            'suggestCharts', [key], {});\n",
              "      } catch (error) {\n",
              "        console.error('Error during call to suggestCharts:', error);\n",
              "      }\n",
              "      quickchartButtonEl.classList.remove('colab-df-spinner');\n",
              "      quickchartButtonEl.classList.add('colab-df-quickchart-complete');\n",
              "    }\n",
              "    (() => {\n",
              "      let quickchartButtonEl =\n",
              "        document.querySelector('#df-48971f0b-c840-4713-8b6a-3443b1fadd28 button');\n",
              "      quickchartButtonEl.style.display =\n",
              "        google.colab.kernel.accessAllowed ? 'block' : 'none';\n",
              "    })();\n",
              "  </script>\n",
              "</div>\n",
              "    </div>\n",
              "  </div>\n"
            ]
          },
          "metadata": {},
          "execution_count": 60
        }
      ]
    },
    {
      "cell_type": "code",
      "source": [
        "\n",
        "def checking(y_compare):\n",
        "    if y_compare['true_class'] == 1 and  y_compare['Prediction'] == 1 :\n",
        "        conf = \"TP\"\n",
        "    elif y_compare['true_class'] == 0 and  y_compare['Prediction'] == 0 :\n",
        "        conf = \"TN\"\n",
        "    elif y_compare['true_class'] == 1 and  y_compare['Prediction'] == 0 :\n",
        "        conf = \"FP\"\n",
        "    else:\n",
        "        conf = \"FN\"\n",
        "    return conf\n",
        "\n",
        "y_compare['conf'] = y_compare.apply(checking, axis = 1)\n",
        "y_compare.head()"
      ],
      "metadata": {
        "colab": {
          "base_uri": "https://localhost:8080/",
          "height": 206
        },
        "id": "V28lffWOicPT",
        "outputId": "b2383b0b-b4ff-4111-c7fb-9f1aadbb3efe"
      },
      "execution_count": null,
      "outputs": [
        {
          "output_type": "execute_result",
          "data": {
            "text/plain": [
              "   reconstruction_error  true_class  Prediction conf\n",
              "0              0.121698           0           0   TN\n",
              "1              0.269489           0           0   TN\n",
              "2              0.676617           0           0   TN\n",
              "3              0.072916           0           0   TN\n",
              "4              0.371355           0           0   TN"
            ],
            "text/html": [
              "\n",
              "  <div id=\"df-934f8785-743d-4dd3-81de-d28084480a8c\" class=\"colab-df-container\">\n",
              "    <div>\n",
              "<style scoped>\n",
              "    .dataframe tbody tr th:only-of-type {\n",
              "        vertical-align: middle;\n",
              "    }\n",
              "\n",
              "    .dataframe tbody tr th {\n",
              "        vertical-align: top;\n",
              "    }\n",
              "\n",
              "    .dataframe thead th {\n",
              "        text-align: right;\n",
              "    }\n",
              "</style>\n",
              "<table border=\"1\" class=\"dataframe\">\n",
              "  <thead>\n",
              "    <tr style=\"text-align: right;\">\n",
              "      <th></th>\n",
              "      <th>reconstruction_error</th>\n",
              "      <th>true_class</th>\n",
              "      <th>Prediction</th>\n",
              "      <th>conf</th>\n",
              "    </tr>\n",
              "  </thead>\n",
              "  <tbody>\n",
              "    <tr>\n",
              "      <th>0</th>\n",
              "      <td>0.121698</td>\n",
              "      <td>0</td>\n",
              "      <td>0</td>\n",
              "      <td>TN</td>\n",
              "    </tr>\n",
              "    <tr>\n",
              "      <th>1</th>\n",
              "      <td>0.269489</td>\n",
              "      <td>0</td>\n",
              "      <td>0</td>\n",
              "      <td>TN</td>\n",
              "    </tr>\n",
              "    <tr>\n",
              "      <th>2</th>\n",
              "      <td>0.676617</td>\n",
              "      <td>0</td>\n",
              "      <td>0</td>\n",
              "      <td>TN</td>\n",
              "    </tr>\n",
              "    <tr>\n",
              "      <th>3</th>\n",
              "      <td>0.072916</td>\n",
              "      <td>0</td>\n",
              "      <td>0</td>\n",
              "      <td>TN</td>\n",
              "    </tr>\n",
              "    <tr>\n",
              "      <th>4</th>\n",
              "      <td>0.371355</td>\n",
              "      <td>0</td>\n",
              "      <td>0</td>\n",
              "      <td>TN</td>\n",
              "    </tr>\n",
              "  </tbody>\n",
              "</table>\n",
              "</div>\n",
              "    <div class=\"colab-df-buttons\">\n",
              "\n",
              "  <div class=\"colab-df-container\">\n",
              "    <button class=\"colab-df-convert\" onclick=\"convertToInteractive('df-934f8785-743d-4dd3-81de-d28084480a8c')\"\n",
              "            title=\"Convert this dataframe to an interactive table.\"\n",
              "            style=\"display:none;\">\n",
              "\n",
              "  <svg xmlns=\"http://www.w3.org/2000/svg\" height=\"24px\" viewBox=\"0 -960 960 960\">\n",
              "    <path d=\"M120-120v-720h720v720H120Zm60-500h600v-160H180v160Zm220 220h160v-160H400v160Zm0 220h160v-160H400v160ZM180-400h160v-160H180v160Zm440 0h160v-160H620v160ZM180-180h160v-160H180v160Zm440 0h160v-160H620v160Z\"/>\n",
              "  </svg>\n",
              "    </button>\n",
              "\n",
              "  <style>\n",
              "    .colab-df-container {\n",
              "      display:flex;\n",
              "      gap: 12px;\n",
              "    }\n",
              "\n",
              "    .colab-df-convert {\n",
              "      background-color: #E8F0FE;\n",
              "      border: none;\n",
              "      border-radius: 50%;\n",
              "      cursor: pointer;\n",
              "      display: none;\n",
              "      fill: #1967D2;\n",
              "      height: 32px;\n",
              "      padding: 0 0 0 0;\n",
              "      width: 32px;\n",
              "    }\n",
              "\n",
              "    .colab-df-convert:hover {\n",
              "      background-color: #E2EBFA;\n",
              "      box-shadow: 0px 1px 2px rgba(60, 64, 67, 0.3), 0px 1px 3px 1px rgba(60, 64, 67, 0.15);\n",
              "      fill: #174EA6;\n",
              "    }\n",
              "\n",
              "    .colab-df-buttons div {\n",
              "      margin-bottom: 4px;\n",
              "    }\n",
              "\n",
              "    [theme=dark] .colab-df-convert {\n",
              "      background-color: #3B4455;\n",
              "      fill: #D2E3FC;\n",
              "    }\n",
              "\n",
              "    [theme=dark] .colab-df-convert:hover {\n",
              "      background-color: #434B5C;\n",
              "      box-shadow: 0px 1px 3px 1px rgba(0, 0, 0, 0.15);\n",
              "      filter: drop-shadow(0px 1px 2px rgba(0, 0, 0, 0.3));\n",
              "      fill: #FFFFFF;\n",
              "    }\n",
              "  </style>\n",
              "\n",
              "    <script>\n",
              "      const buttonEl =\n",
              "        document.querySelector('#df-934f8785-743d-4dd3-81de-d28084480a8c button.colab-df-convert');\n",
              "      buttonEl.style.display =\n",
              "        google.colab.kernel.accessAllowed ? 'block' : 'none';\n",
              "\n",
              "      async function convertToInteractive(key) {\n",
              "        const element = document.querySelector('#df-934f8785-743d-4dd3-81de-d28084480a8c');\n",
              "        const dataTable =\n",
              "          await google.colab.kernel.invokeFunction('convertToInteractive',\n",
              "                                                    [key], {});\n",
              "        if (!dataTable) return;\n",
              "\n",
              "        const docLinkHtml = 'Like what you see? Visit the ' +\n",
              "          '<a target=\"_blank\" href=https://colab.research.google.com/notebooks/data_table.ipynb>data table notebook</a>'\n",
              "          + ' to learn more about interactive tables.';\n",
              "        element.innerHTML = '';\n",
              "        dataTable['output_type'] = 'display_data';\n",
              "        await google.colab.output.renderOutput(dataTable, element);\n",
              "        const docLink = document.createElement('div');\n",
              "        docLink.innerHTML = docLinkHtml;\n",
              "        element.appendChild(docLink);\n",
              "      }\n",
              "    </script>\n",
              "  </div>\n",
              "\n",
              "\n",
              "<div id=\"df-debcd311-dded-406f-9522-8aa37564d366\">\n",
              "  <button class=\"colab-df-quickchart\" onclick=\"quickchart('df-debcd311-dded-406f-9522-8aa37564d366')\"\n",
              "            title=\"Suggest charts.\"\n",
              "            style=\"display:none;\">\n",
              "\n",
              "<svg xmlns=\"http://www.w3.org/2000/svg\" height=\"24px\"viewBox=\"0 0 24 24\"\n",
              "     width=\"24px\">\n",
              "    <g>\n",
              "        <path d=\"M19 3H5c-1.1 0-2 .9-2 2v14c0 1.1.9 2 2 2h14c1.1 0 2-.9 2-2V5c0-1.1-.9-2-2-2zM9 17H7v-7h2v7zm4 0h-2V7h2v10zm4 0h-2v-4h2v4z\"/>\n",
              "    </g>\n",
              "</svg>\n",
              "  </button>\n",
              "\n",
              "<style>\n",
              "  .colab-df-quickchart {\n",
              "      --bg-color: #E8F0FE;\n",
              "      --fill-color: #1967D2;\n",
              "      --hover-bg-color: #E2EBFA;\n",
              "      --hover-fill-color: #174EA6;\n",
              "      --disabled-fill-color: #AAA;\n",
              "      --disabled-bg-color: #DDD;\n",
              "  }\n",
              "\n",
              "  [theme=dark] .colab-df-quickchart {\n",
              "      --bg-color: #3B4455;\n",
              "      --fill-color: #D2E3FC;\n",
              "      --hover-bg-color: #434B5C;\n",
              "      --hover-fill-color: #FFFFFF;\n",
              "      --disabled-bg-color: #3B4455;\n",
              "      --disabled-fill-color: #666;\n",
              "  }\n",
              "\n",
              "  .colab-df-quickchart {\n",
              "    background-color: var(--bg-color);\n",
              "    border: none;\n",
              "    border-radius: 50%;\n",
              "    cursor: pointer;\n",
              "    display: none;\n",
              "    fill: var(--fill-color);\n",
              "    height: 32px;\n",
              "    padding: 0;\n",
              "    width: 32px;\n",
              "  }\n",
              "\n",
              "  .colab-df-quickchart:hover {\n",
              "    background-color: var(--hover-bg-color);\n",
              "    box-shadow: 0 1px 2px rgba(60, 64, 67, 0.3), 0 1px 3px 1px rgba(60, 64, 67, 0.15);\n",
              "    fill: var(--button-hover-fill-color);\n",
              "  }\n",
              "\n",
              "  .colab-df-quickchart-complete:disabled,\n",
              "  .colab-df-quickchart-complete:disabled:hover {\n",
              "    background-color: var(--disabled-bg-color);\n",
              "    fill: var(--disabled-fill-color);\n",
              "    box-shadow: none;\n",
              "  }\n",
              "\n",
              "  .colab-df-spinner {\n",
              "    border: 2px solid var(--fill-color);\n",
              "    border-color: transparent;\n",
              "    border-bottom-color: var(--fill-color);\n",
              "    animation:\n",
              "      spin 1s steps(1) infinite;\n",
              "  }\n",
              "\n",
              "  @keyframes spin {\n",
              "    0% {\n",
              "      border-color: transparent;\n",
              "      border-bottom-color: var(--fill-color);\n",
              "      border-left-color: var(--fill-color);\n",
              "    }\n",
              "    20% {\n",
              "      border-color: transparent;\n",
              "      border-left-color: var(--fill-color);\n",
              "      border-top-color: var(--fill-color);\n",
              "    }\n",
              "    30% {\n",
              "      border-color: transparent;\n",
              "      border-left-color: var(--fill-color);\n",
              "      border-top-color: var(--fill-color);\n",
              "      border-right-color: var(--fill-color);\n",
              "    }\n",
              "    40% {\n",
              "      border-color: transparent;\n",
              "      border-right-color: var(--fill-color);\n",
              "      border-top-color: var(--fill-color);\n",
              "    }\n",
              "    60% {\n",
              "      border-color: transparent;\n",
              "      border-right-color: var(--fill-color);\n",
              "    }\n",
              "    80% {\n",
              "      border-color: transparent;\n",
              "      border-right-color: var(--fill-color);\n",
              "      border-bottom-color: var(--fill-color);\n",
              "    }\n",
              "    90% {\n",
              "      border-color: transparent;\n",
              "      border-bottom-color: var(--fill-color);\n",
              "    }\n",
              "  }\n",
              "</style>\n",
              "\n",
              "  <script>\n",
              "    async function quickchart(key) {\n",
              "      const quickchartButtonEl =\n",
              "        document.querySelector('#' + key + ' button');\n",
              "      quickchartButtonEl.disabled = true;  // To prevent multiple clicks.\n",
              "      quickchartButtonEl.classList.add('colab-df-spinner');\n",
              "      try {\n",
              "        const charts = await google.colab.kernel.invokeFunction(\n",
              "            'suggestCharts', [key], {});\n",
              "      } catch (error) {\n",
              "        console.error('Error during call to suggestCharts:', error);\n",
              "      }\n",
              "      quickchartButtonEl.classList.remove('colab-df-spinner');\n",
              "      quickchartButtonEl.classList.add('colab-df-quickchart-complete');\n",
              "    }\n",
              "    (() => {\n",
              "      let quickchartButtonEl =\n",
              "        document.querySelector('#df-debcd311-dded-406f-9522-8aa37564d366 button');\n",
              "      quickchartButtonEl.style.display =\n",
              "        google.colab.kernel.accessAllowed ? 'block' : 'none';\n",
              "    })();\n",
              "  </script>\n",
              "</div>\n",
              "    </div>\n",
              "  </div>\n"
            ]
          },
          "metadata": {},
          "execution_count": 61
        }
      ]
    },
    {
      "cell_type": "code",
      "source": [
        "ax =sns.countplot(x ='conf',  data = y_compare)\n",
        "\n",
        "for label in ax.containers:\n",
        "    ax.bar_label(label)\n",
        "# Show the plot\n",
        "plt.title('Confusion matrix')\n",
        "plt.xlabel('conf')\n",
        "plt.ylabel('Observation')\n",
        "plt.show()"
      ],
      "metadata": {
        "colab": {
          "base_uri": "https://localhost:8080/",
          "height": 472
        },
        "id": "nScodlf_qTMa",
        "outputId": "be1beec4-8997-4662-f43f-8a9ff654fdcf"
      },
      "execution_count": null,
      "outputs": [
        {
          "output_type": "display_data",
          "data": {
            "text/plain": [
              "<Figure size 640x480 with 1 Axes>"
            ],
            "image/png": "[encoded data removed]"
          },
          "metadata": {}
        }
      ]
    },
    {
      "cell_type": "code",
      "source": [
        "list1 = ['FN', 'FP']\n",
        "\n",
        "# check the pandas name column\n",
        "# contain the given list of strings\n",
        "conf_comp = y_compare[y_compare['conf'].isin(list1)]\n",
        "conf_comp.shape\n",
        "conf_comp.head(300)"
      ],
      "metadata": {
        "colab": {
          "base_uri": "https://localhost:8080/",
          "height": 682
        },
        "id": "nk5mcrotvsr3",
        "outputId": "fd05d15b-f369-4266-b13d-3e33cda452e4"
      },
      "execution_count": null,
      "outputs": [
        {
          "output_type": "execute_result",
          "data": {
            "text/plain": [
              "       reconstruction_error  true_class  Prediction conf\n",
              "237               12.629427           0           1   FN\n",
              "605               37.608275           0           1   FN\n",
              "752               42.731047           0           1   FN\n",
              "813                4.530658           0           1   FN\n",
              "859               22.952903           0           1   FN\n",
              "...                     ...         ...         ...  ...\n",
              "55860              9.213434           0           1   FN\n",
              "56162             63.447055           0           1   FN\n",
              "56305              4.931662           0           1   FN\n",
              "56886              2.738964           0           1   FN\n",
              "56887              2.965038           0           1   FN\n",
              "\n",
              "[300 rows x 4 columns]"
            ],
            "text/html": [
              "\n",
              "  <div id=\"df-8a92efdf-642b-4d8c-ac75-fb6937855908\" class=\"colab-df-container\">\n",
              "    <div>\n",
              "<style scoped>\n",
              "    .dataframe tbody tr th:only-of-type {\n",
              "        vertical-align: middle;\n",
              "    }\n",
              "\n",
              "    .dataframe tbody tr th {\n",
              "        vertical-align: top;\n",
              "    }\n",
              "\n",
              "    .dataframe thead th {\n",
              "        text-align: right;\n",
              "    }\n",
              "</style>\n",
              "<table border=\"1\" class=\"dataframe\">\n",
              "  <thead>\n",
              "    <tr style=\"text-align: right;\">\n",
              "      <th></th>\n",
              "      <th>reconstruction_error</th>\n",
              "      <th>true_class</th>\n",
              "      <th>Prediction</th>\n",
              "      <th>conf</th>\n",
              "    </tr>\n",
              "  </thead>\n",
              "  <tbody>\n",
              "    <tr>\n",
              "      <th>237</th>\n",
              "      <td>12.629427</td>\n",
              "      <td>0</td>\n",
              "      <td>1</td>\n",
              "      <td>FN</td>\n",
              "    </tr>\n",
              "    <tr>\n",
              "      <th>605</th>\n",
              "      <td>37.608275</td>\n",
              "      <td>0</td>\n",
              "      <td>1</td>\n",
              "      <td>FN</td>\n",
              "    </tr>\n",
              "    <tr>\n",
              "      <th>752</th>\n",
              "      <td>42.731047</td>\n",
              "      <td>0</td>\n",
              "      <td>1</td>\n",
              "      <td>FN</td>\n",
              "    </tr>\n",
              "    <tr>\n",
              "      <th>813</th>\n",
              "      <td>4.530658</td>\n",
              "      <td>0</td>\n",
              "      <td>1</td>\n",
              "      <td>FN</td>\n",
              "    </tr>\n",
              "    <tr>\n",
              "      <th>859</th>\n",
              "      <td>22.952903</td>\n",
              "      <td>0</td>\n",
              "      <td>1</td>\n",
              "      <td>FN</td>\n",
              "    </tr>\n",
              "    <tr>\n",
              "      <th>...</th>\n",
              "      <td>...</td>\n",
              "      <td>...</td>\n",
              "      <td>...</td>\n",
              "      <td>...</td>\n",
              "    </tr>\n",
              "    <tr>\n",
              "      <th>55860</th>\n",
              "      <td>9.213434</td>\n",
              "      <td>0</td>\n",
              "      <td>1</td>\n",
              "      <td>FN</td>\n",
              "    </tr>\n",
              "    <tr>\n",
              "      <th>56162</th>\n",
              "      <td>63.447055</td>\n",
              "      <td>0</td>\n",
              "      <td>1</td>\n",
              "      <td>FN</td>\n",
              "    </tr>\n",
              "    <tr>\n",
              "      <th>56305</th>\n",
              "      <td>4.931662</td>\n",
              "      <td>0</td>\n",
              "      <td>1</td>\n",
              "      <td>FN</td>\n",
              "    </tr>\n",
              "    <tr>\n",
              "      <th>56886</th>\n",
              "      <td>2.738964</td>\n",
              "      <td>0</td>\n",
              "      <td>1</td>\n",
              "      <td>FN</td>\n",
              "    </tr>\n",
              "    <tr>\n",
              "      <th>56887</th>\n",
              "      <td>2.965038</td>\n",
              "      <td>0</td>\n",
              "      <td>1</td>\n",
              "      <td>FN</td>\n",
              "    </tr>\n",
              "  </tbody>\n",
              "</table>\n",
              "<p>300 rows × 4 columns</p>\n",
              "</div>\n",
              "    <div class=\"colab-df-buttons\">\n",
              "\n",
              "  <div class=\"colab-df-container\">\n",
              "    <button class=\"colab-df-convert\" onclick=\"convertToInteractive('df-8a92efdf-642b-4d8c-ac75-fb6937855908')\"\n",
              "            title=\"Convert this dataframe to an interactive table.\"\n",
              "            style=\"display:none;\">\n",
              "\n",
              "  <svg xmlns=\"http://www.w3.org/2000/svg\" height=\"24px\" viewBox=\"0 -960 960 960\">\n",
              "    <path d=\"M120-120v-720h720v720H120Zm60-500h600v-160H180v160Zm220 220h160v-160H400v160Zm0 220h160v-160H400v160ZM180-400h160v-160H180v160Zm440 0h160v-160H620v160ZM180-180h160v-160H180v160Zm440 0h160v-160H620v160Z\"/>\n",
              "  </svg>\n",
              "    </button>\n",
              "\n",
              "  <style>\n",
              "    .colab-df-container {\n",
              "      display:flex;\n",
              "      gap: 12px;\n",
              "    }\n",
              "\n",
              "    .colab-df-convert {\n",
              "      background-color: #E8F0FE;\n",
              "      border: none;\n",
              "      border-radius: 50%;\n",
              "      cursor: pointer;\n",
              "      display: none;\n",
              "      fill: #1967D2;\n",
              "      height: 32px;\n",
              "      padding: 0 0 0 0;\n",
              "      width: 32px;\n",
              "    }\n",
              "\n",
              "    .colab-df-convert:hover {\n",
              "      background-color: #E2EBFA;\n",
              "      box-shadow: 0px 1px 2px rgba(60, 64, 67, 0.3), 0px 1px 3px 1px rgba(60, 64, 67, 0.15);\n",
              "      fill: #174EA6;\n",
              "    }\n",
              "\n",
              "    .colab-df-buttons div {\n",
              "      margin-bottom: 4px;\n",
              "    }\n",
              "\n",
              "    [theme=dark] .colab-df-convert {\n",
              "      background-color: #3B4455;\n",
              "      fill: #D2E3FC;\n",
              "    }\n",
              "\n",
              "    [theme=dark] .colab-df-convert:hover {\n",
              "      background-color: #434B5C;\n",
              "      box-shadow: 0px 1px 3px 1px rgba(0, 0, 0, 0.15);\n",
              "      filter: drop-shadow(0px 1px 2px rgba(0, 0, 0, 0.3));\n",
              "      fill: #FFFFFF;\n",
              "    }\n",
              "  </style>\n",
              "\n",
              "    <script>\n",
              "      const buttonEl =\n",
              "        document.querySelector('#df-8a92efdf-642b-4d8c-ac75-fb6937855908 button.colab-df-convert');\n",
              "      buttonEl.style.display =\n",
              "        google.colab.kernel.accessAllowed ? 'block' : 'none';\n",
              "\n",
              "      async function convertToInteractive(key) {\n",
              "        const element = document.querySelector('#df-8a92efdf-642b-4d8c-ac75-fb6937855908');\n",
              "        const dataTable =\n",
              "          await google.colab.kernel.invokeFunction('convertToInteractive',\n",
              "                                                    [key], {});\n",
              "        if (!dataTable) return;\n",
              "\n",
              "        const docLinkHtml = 'Like what you see? Visit the ' +\n",
              "          '<a target=\"_blank\" href=https://colab.research.google.com/notebooks/data_table.ipynb>data table notebook</a>'\n",
              "          + ' to learn more about interactive tables.';\n",
              "        element.innerHTML = '';\n",
              "        dataTable['output_type'] = 'display_data';\n",
              "        await google.colab.output.renderOutput(dataTable, element);\n",
              "        const docLink = document.createElement('div');\n",
              "        docLink.innerHTML = docLinkHtml;\n",
              "        element.appendChild(docLink);\n",
              "      }\n",
              "    </script>\n",
              "  </div>\n",
              "\n",
              "\n",
              "<div id=\"df-fc25403f-4f57-4b96-afb7-7ab779b741d2\">\n",
              "  <button class=\"colab-df-quickchart\" onclick=\"quickchart('df-fc25403f-4f57-4b96-afb7-7ab779b741d2')\"\n",
              "            title=\"Suggest charts.\"\n",
              "            style=\"display:none;\">\n",
              "\n",
              "<svg xmlns=\"http://www.w3.org/2000/svg\" height=\"24px\"viewBox=\"0 0 24 24\"\n",
              "     width=\"24px\">\n",
              "    <g>\n",
              "        <path d=\"M19 3H5c-1.1 0-2 .9-2 2v14c0 1.1.9 2 2 2h14c1.1 0 2-.9 2-2V5c0-1.1-.9-2-2-2zM9 17H7v-7h2v7zm4 0h-2V7h2v10zm4 0h-2v-4h2v4z\"/>\n",
              "    </g>\n",
              "</svg>\n",
              "  </button>\n",
              "\n",
              "<style>\n",
              "  .colab-df-quickchart {\n",
              "      --bg-color: #E8F0FE;\n",
              "      --fill-color: #1967D2;\n",
              "      --hover-bg-color: #E2EBFA;\n",
              "      --hover-fill-color: #174EA6;\n",
              "      --disabled-fill-color: #AAA;\n",
              "      --disabled-bg-color: #DDD;\n",
              "  }\n",
              "\n",
              "  [theme=dark] .colab-df-quickchart {\n",
              "      --bg-color: #3B4455;\n",
              "      --fill-color: #D2E3FC;\n",
              "      --hover-bg-color: #434B5C;\n",
              "      --hover-fill-color: #FFFFFF;\n",
              "      --disabled-bg-color: #3B4455;\n",
              "      --disabled-fill-color: #666;\n",
              "  }\n",
              "\n",
              "  .colab-df-quickchart {\n",
              "    background-color: var(--bg-color);\n",
              "    border: none;\n",
              "    border-radius: 50%;\n",
              "    cursor: pointer;\n",
              "    display: none;\n",
              "    fill: var(--fill-color);\n",
              "    height: 32px;\n",
              "    padding: 0;\n",
              "    width: 32px;\n",
              "  }\n",
              "\n",
              "  .colab-df-quickchart:hover {\n",
              "    background-color: var(--hover-bg-color);\n",
              "    box-shadow: 0 1px 2px rgba(60, 64, 67, 0.3), 0 1px 3px 1px rgba(60, 64, 67, 0.15);\n",
              "    fill: var(--button-hover-fill-color);\n",
              "  }\n",
              "\n",
              "  .colab-df-quickchart-complete:disabled,\n",
              "  .colab-df-quickchart-complete:disabled:hover {\n",
              "    background-color: var(--disabled-bg-color);\n",
              "    fill: var(--disabled-fill-color);\n",
              "    box-shadow: none;\n",
              "  }\n",
              "\n",
              "  .colab-df-spinner {\n",
              "    border: 2px solid var(--fill-color);\n",
              "    border-color: transparent;\n",
              "    border-bottom-color: var(--fill-color);\n",
              "    animation:\n",
              "      spin 1s steps(1) infinite;\n",
              "  }\n",
              "\n",
              "  @keyframes spin {\n",
              "    0% {\n",
              "      border-color: transparent;\n",
              "      border-bottom-color: var(--fill-color);\n",
              "      border-left-color: var(--fill-color);\n",
              "    }\n",
              "    20% {\n",
              "      border-color: transparent;\n",
              "      border-left-color: var(--fill-color);\n",
              "      border-top-color: var(--fill-color);\n",
              "    }\n",
              "    30% {\n",
              "      border-color: transparent;\n",
              "      border-left-color: var(--fill-color);\n",
              "      border-top-color: var(--fill-color);\n",
              "      border-right-color: var(--fill-color);\n",
              "    }\n",
              "    40% {\n",
              "      border-color: transparent;\n",
              "      border-right-color: var(--fill-color);\n",
              "      border-top-color: var(--fill-color);\n",
              "    }\n",
              "    60% {\n",
              "      border-color: transparent;\n",
              "      border-right-color: var(--fill-color);\n",
              "    }\n",
              "    80% {\n",
              "      border-color: transparent;\n",
              "      border-right-color: var(--fill-color);\n",
              "      border-bottom-color: var(--fill-color);\n",
              "    }\n",
              "    90% {\n",
              "      border-color: transparent;\n",
              "      border-bottom-color: var(--fill-color);\n",
              "    }\n",
              "  }\n",
              "</style>\n",
              "\n",
              "  <script>\n",
              "    async function quickchart(key) {\n",
              "      const quickchartButtonEl =\n",
              "        document.querySelector('#' + key + ' button');\n",
              "      quickchartButtonEl.disabled = true;  // To prevent multiple clicks.\n",
              "      quickchartButtonEl.classList.add('colab-df-spinner');\n",
              "      try {\n",
              "        const charts = await google.colab.kernel.invokeFunction(\n",
              "            'suggestCharts', [key], {});\n",
              "      } catch (error) {\n",
              "        console.error('Error during call to suggestCharts:', error);\n",
              "      }\n",
              "      quickchartButtonEl.classList.remove('colab-df-spinner');\n",
              "      quickchartButtonEl.classList.add('colab-df-quickchart-complete');\n",
              "    }\n",
              "    (() => {\n",
              "      let quickchartButtonEl =\n",
              "        document.querySelector('#df-fc25403f-4f57-4b96-afb7-7ab779b741d2 button');\n",
              "      quickchartButtonEl.style.display =\n",
              "        google.colab.kernel.accessAllowed ? 'block' : 'none';\n",
              "    })();\n",
              "  </script>\n",
              "</div>\n",
              "    </div>\n",
              "  </div>\n"
            ]
          },
          "metadata": {},
          "execution_count": 67
        }
      ]
    },
    {
      "cell_type": "markdown",
      "source": [
        "#Conclusion"
      ],
      "metadata": {
        "id": "sODHQbz040KI"
      }
    },
    {
      "cell_type": "markdown",
      "source": [
        "อันนี้ถือเป็นการทำโมเดล Fraud แบบง่ายและพื้นฐานมาก ๆ เพราะวิธีการทำโมเดลประเภทนี้มีเยอะมาก รวมไปถึงเทคนิคต่าง ๆ ที่เอาไว้จัดการกับ Imbalance dataset หรือจะเป็นการออกแบบ Network โดยใช้ LSTM เข้ามาช่วยในการ Training model"
      ],
      "metadata": {
        "id": "5gjRcfLO48P4"
      }
    }
  ],
  "metadata": {
    "colab": {
      "provenance": [],
      "toc_visible": true,
      "mount_file_id": "1iiryN-d0KfXeYok2m-OzMpnEiDpKm1nB",
      "authorship_tag": "ABX9TyNxAWwpa6sYIWErPUl3qIHP",
      "include_colab_link": true
    },
    "kernelspec": {
      "display_name": "Python 3",
      "name": "python3"
    },
    "language_info": {
      "name": "python"
    }
  },
  "nbformat": 4,
  "nbformat_minor": 0
}